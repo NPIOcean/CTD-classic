{
 "cells": [
  {
   "cell_type": "code",
   "execution_count": null,
   "id": "e9f4b44d-968c-46c0-9c32-de8de0e6ebe9",
   "metadata": {},
   "outputs": [],
   "source": []
  }
 ],
 "metadata": {
  "kernelspec": {
   "display_name": "Python [conda env:kval_ctd] *",
   "language": "python",
   "name": "conda-env-kval_ctd-py"
  },
  "language_info": {
   "codemirror_mode": {
    "name": "ipython",
    "version": 3
   },
   "file_extension": ".py",
   "mimetype": "text/x-python",
   "name": "python",
   "nbconvert_exporter": "python",
   "pygments_lexer": "ipython3",
   "version": "3.11.10"
  }
 },
 "nbformat": 4,
 "nbformat_minor": 5
}
