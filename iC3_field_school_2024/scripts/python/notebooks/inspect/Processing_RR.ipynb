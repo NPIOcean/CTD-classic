{
 "cells": [
  {
   "cell_type": "markdown",
   "id": "9d8d5373-68aa-4dcc-9ad2-ad695367d490",
   "metadata": {},
   "source": [
    "# Underway quick look at files\n",
    "\n",
    "Load the data and make some plots and stuff using `kval`'s built-in functionality (basic stuff for now)."
   ]
  },
  {
   "cell_type": "code",
   "execution_count": 2,
   "id": "b22b8de0-b579-4eb3-b1d6-5cf2c61cc769",
   "metadata": {},
   "outputs": [],
   "source": [
    "# Load the ctd module from the kval library  \n",
    "from kval.data import ctd\n",
    "import glob2\n",
    "\n",
    "# for data manipualtion\n",
    "import pandas as pd\n",
    "import xarray as xr\n",
    "import numpy as np\n",
    "import gsw\n",
    "from sklearn.linear_model import LinearRegression\n",
    "\n",
    "# for custom plotting\n",
    "import matplotlib.pyplot as plt\n",
    "# Set the matplotlib backend so we can interact with the plots (zoom, click buttons etc)\n",
    "%matplotlib widget"
   ]
  },
  {
   "cell_type": "markdown",
   "id": "8eb8198d-32b4-4328-93a1-d6f85dfe97ee",
   "metadata": {},
   "source": [
    "## Load data from `.cnv`s"
   ]
  },
  {
   "cell_type": "code",
   "execution_count": 3,
   "id": "7ae91ea9-bf44-4ca4-9cf4-346d9d1ab63f",
   "metadata": {},
   "outputs": [],
   "source": [
    "# Get a list of the processed CTD-data files\n",
    "cnv_list_all = glob2.glob('../../../../proc/*.cnv')\n",
    "\n",
    "# Get lists of binne and unbinned data, respectively\n",
    "cnv_list_bin = [file for file in cnv_list_all if '_bin' in file]\n",
    "cnv_list_nbin = [file for file in cnv_list_all if not  '_bin' in file]"
   ]
  },
  {
   "cell_type": "code",
   "execution_count": 4,
   "id": "531a1787-e6b8-4c6a-b080-68f69301dd60",
   "metadata": {},
   "outputs": [
    {
     "name": "stdout",
     "output_type": "stream",
     "text": [
      "NOTE!: 72: Unable to find [latitude, longitude] in .cnv file --> Assigning NaN values.\n",
      "NOTE!: 74: Unable to find [latitude, longitude] in .cnv file --> Assigning NaN values.\n",
      "NOTE!: stnr0083: Unable to find [latitude, longitude] in .cnv file --> Assigning NaN values.\n",
      "NOTE!: stnr0084: Unable to find [latitude, longitude] in .cnv file --> Assigning NaN values.\n",
      "NOTE!: 95: Unable to find [latitude, longitude] in .cnv file --> Assigning NaN values.\n",
      "NOTE!: 106: Unable to find [latitude, longitude] in .cnv file --> Assigning NaN values.\n",
      "NOTE!: 113: Unable to find [latitude, longitude] in .cnv file --> Assigning NaN values.\n",
      "NOTE!: 118: Unable to find [latitude, longitude] in .cnv file --> Assigning NaN values.\n",
      "NOTE!: 127: Unable to find [latitude, longitude] in .cnv file --> Assigning NaN values.\n",
      "NOTE!: 132: Unable to find [latitude, longitude] in .cnv file --> Assigning NaN values.\n",
      "NOTE!: 133: Unable to find [latitude, longitude] in .cnv file --> Assigning NaN values.\n",
      "NOTE!: * Station:: Unable to find [latitude, longitude] in .cnv file --> Assigning NaN values.\n",
      "Loaded 12 profiles from list of Datasets.\n",
      "NOTE: It seems the input data already binned -> using preexisting binning.\n"
     ]
    },
    {
     "data": {
      "application/vnd.jupyter.widget-view+json": {
       "model_id": "fd8b9413ebd144d4a3c635412a3e2f89",
       "version_major": 2,
       "version_minor": 0
      },
      "text/plain": [
       "Joining profiles together:   0%|          | 0/12 [00:00<?, ?it/s]"
      ]
     },
     "metadata": {},
     "output_type": "display_data"
    }
   ],
   "source": [
    "# Load the CTD data as joined xarray dataset\n",
    "# ds = ctd.ctds_from_cnv_dir('../../../../proc/')\n",
    "ds_ctd = ctd.ctds_from_cnv_list(cnv_list_bin, station_from_filename=False)\n",
    "\n",
    "# manually fix station name (string entered when starting the data recording, should have been statio number only)\n",
    "ds_ctd.STATION[0] = 60\n",
    "ds_ctd.STATION[1] = 72\n",
    "ds_ctd.STATION[2] = 74\n",
    "ds_ctd.STATION[3] = 83\n",
    "ds_ctd.STATION[4] = '85'"
   ]
  },
  {
   "cell_type": "code",
   "execution_count": 5,
   "id": "ddd47f36-40be-469b-9bd5-ce075ba682c1",
   "metadata": {},
   "outputs": [],
   "source": [
    "# WHY Station 60 included? Mistake or to ease plotting?"
   ]
  },
  {
   "cell_type": "code",
   "execution_count": 6,
   "id": "e2b1d6ac-ef8b-4851-b98c-4b3fa20085e9",
   "metadata": {},
   "outputs": [
    {
     "name": "stdout",
     "output_type": "stream",
     "text": [
      "<xarray.Dataset> Size: 252kB\n",
      "Dimensions:      (TIME: 12, PRES: 323)\n",
      "Coordinates:\n",
      "  * PRES         (PRES) float64 3kB 2.0 3.0 4.0 5.0 ... 322.0 323.0 324.0 325.0\n",
      "  * TIME         (TIME) float64 96B 1.984e+04 1.998e+04 ... 1.998e+04 1.998e+04\n",
      "Data variables: (12/13)\n",
      "    TEMP1        (TIME, PRES) float64 31kB nan nan nan 5.123 ... nan nan nan nan\n",
      "    CNDC1        (TIME, PRES) float64 31kB nan nan nan 3.106 ... nan nan nan nan\n",
      "    flSP         (TIME, PRES) float64 31kB nan nan nan 0.4117 ... nan nan nan\n",
      "    PSAL1        (TIME, PRES) float64 31kB nan nan nan nan ... nan nan nan nan\n",
      "    gsw_saA0     (TIME, PRES) float64 31kB nan nan nan nan ... nan nan nan nan\n",
      "    gsw_ctA0     (TIME, PRES) float64 31kB nan nan nan nan ... nan nan nan nan\n",
      "    ...           ...\n",
      "    TIME_SAMPLE  (TIME, PRES) float64 31kB nan nan nan 1.984e+04 ... nan nan nan\n",
      "    STATION      (TIME) <U10 480B '60' '72' '74' '83' ... '127' '132' '133'\n",
      "    LATITUDE     (TIME) float64 96B nan nan nan nan nan ... nan nan nan nan nan\n",
      "    LONGITUDE    (TIME) float64 96B nan nan nan nan nan ... nan nan nan nan nan\n",
      "    CRUISE       <U27 108B '!! CRUISE (Not assigned) !!'\n",
      "    PROCESSING   object 8B None\n",
      "Attributes:\n",
      "    binned:        1 decibars (SBE software)\n",
      "    history:       2024-04-24 to 2024-09-13: Data collection.\\n2024-09-11 to ...\n",
      "    ship:          BP\n",
      "    source_files:  E.g. STNR0072.HEX, BERET.XMLCON -> PROC\\STNR0072_BIN.CNV\n",
      "    featureType:   profile\n"
     ]
    }
   ],
   "source": [
    "print(ds_ctd)"
   ]
  },
  {
   "cell_type": "code",
   "execution_count": 7,
   "id": "4d8a8f1c-3901-4e6c-948d-486c2c1bde9a",
   "metadata": {},
   "outputs": [
    {
     "name": "stderr",
     "output_type": "stream",
     "text": [
      "C:\\Users\\rirun2565\\AppData\\Local\\miniforge3\\envs\\kval_ctd\\Lib\\site-packages\\openpyxl\\worksheet\\_read_only.py:85: UserWarning: Data Validation extension is not supported and will be removed\n",
      "  for idx, row in parser.parse():\n"
     ]
    }
   ],
   "source": [
    "# load logsheet into pandas data frame for meta data; later used for coordinate matching of the stations and bottle value avearging\n",
    "df_log = pd.read_excel('../../../../logsheets/iC3_field_school_samplelog_marine_clean.xlsx', sheet_name='samplelog')[\n",
    "    ['decimalLatitude', 'decimalLongitude', 'bottomDepthInMeters', 'locationID', 'gearType', 'niskinNumber', 'maximumDepthInMeters','sampleType']]\n",
    "\n",
    "# extract numerical StationID from locatioID string using regexp\n",
    "df_log['STATION'] = df_log.locationID.str.extract('(^\\d*)')\n",
    "\n",
    "# extract geographical coordinates logsheet data frame; remove duplicates & swap dimensions\n",
    "df_loc_all = df_log.drop_duplicates(subset=['decimalLatitude', 'decimalLongitude', 'STATION']).dropna(subset=['decimalLatitude'])\n",
    "df_loc = df_loc_all[['STATION', 'decimalLatitude', 'decimalLongitude']]\n",
    "# convert location data frame into dataset and insert values into cnv dataset\n",
    "ds_loc = xr.Dataset(df_loc)"
   ]
  },
  {
   "cell_type": "code",
   "execution_count": 8,
   "id": "55bd7286-4d90-4c73-bde5-f09313dc3ecd",
   "metadata": {},
   "outputs": [
    {
     "name": "stdout",
     "output_type": "stream",
     "text": [
      "     decimalLatitude  decimalLongitude  bottomDepthInMeters      locationID  \\\n",
      "0           70.00800         20.408300                353.0     72 (LYNG04)   \n",
      "1           70.00800         20.408300                353.0     72 (LYNG04)   \n",
      "2           70.00800         20.408300                353.0     72 (LYNG04)   \n",
      "3           70.00800         20.408300                353.0     72 (LYNG04)   \n",
      "4           70.00800         20.408300                353.0     72 (LYNG04)   \n",
      "..               ...               ...                  ...             ...   \n",
      "310         69.44625         20.256633                130.0  133 (LYNG-iC3)   \n",
      "311         69.44625         20.256633                130.0  133 (LYNG-iC3)   \n",
      "312         69.44625         20.256633                130.0  133 (LYNG-iC3)   \n",
      "313         69.44625         20.256633                130.0  133 (LYNG-iC3)   \n",
      "314         69.44625         20.256633                130.0  133 (LYNG-iC3)   \n",
      "\n",
      "          gearType  niskinNumber  maximumDepthInMeters     sampleType STATION  \n",
      "0    Niskin bottle           1.0                 343.0      Nutrients      72  \n",
      "1    Niskin bottle           2.0                  50.0      Nutrients      72  \n",
      "2    Niskin bottle           3.0                  20.0      Nutrients      72  \n",
      "3    Niskin bottle           5.0                   2.0      Nutrients      72  \n",
      "4    Niskin bottle           1.0                 343.0     δ18 Oxygen      72  \n",
      "..             ...           ...                   ...            ...     ...  \n",
      "310  Niskin bottle           4.0                  10.0       Pigments     133  \n",
      "311  Niskin bottle           5.0                   2.0       Pigments     133  \n",
      "312  Niskin bottle           5.0                   2.0       Pigments     133  \n",
      "313  Niskin bottle           5.0                   2.0       Pigments     133  \n",
      "314  Handnet 20 μm           NaN                  25.0  Handnet 20 µm     133  \n",
      "\n",
      "[315 rows x 9 columns]\n"
     ]
    }
   ],
   "source": [
    "print(df_log)"
   ]
  },
  {
   "cell_type": "code",
   "execution_count": 9,
   "id": "93f3c837-75ea-46b8-8ff3-4ce048856881",
   "metadata": {},
   "outputs": [],
   "source": [
    "ds_loc = ds_loc.swap_dims({'dim_0': 'STATION'})\n",
    "\n",
    "# Make `STATION` a coordinate in the CTD dataset for combining with position data.\n",
    "ds_ctd = ds_ctd.swap_dims({'TIME': 'STATION'})\n",
    "ds_ctd['LATITUDE']=ds_loc.decimalLatitude\n",
    "ds_ctd['LONGITUDE']=ds_loc.decimalLongitude\n",
    "\n",
    "# create a seperate version keeping STATION as a coordinate, for calculating and cobing with RBR Data\n",
    "ds_ctd_calc = ds_ctd"
   ]
  },
  {
   "cell_type": "code",
   "execution_count": 10,
   "id": "8deca003-db43-4a60-a4a2-0b10448ef2b5",
   "metadata": {},
   "outputs": [],
   "source": [
    "# swap coordinates back for use with plotting fucntions in kval\n",
    "ds_ctd = ds_ctd.swap_dims({'STATION':'TIME'})"
   ]
  },
  {
   "cell_type": "code",
   "execution_count": 11,
   "id": "f2546ee6-ca9c-4c70-a611-0dcef9acca4b",
   "metadata": {},
   "outputs": [
    {
     "name": "stdout",
     "output_type": "stream",
     "text": [
      "<xarray.Dataset> Size: 252kB\n",
      "Dimensions:      (STATION: 12, PRES: 323)\n",
      "Coordinates:\n",
      "  * STATION      (STATION) <U10 480B '60' '72' '74' '83' ... '127' '132' '133'\n",
      "  * PRES         (PRES) float64 3kB 2.0 3.0 4.0 5.0 ... 322.0 323.0 324.0 325.0\n",
      "    TIME         (STATION) float64 96B 1.984e+04 1.998e+04 ... 1.998e+04\n",
      "    dim_0        (STATION) float64 96B nan 0.0 29.0 66.0 ... 242.0 nan 279.0\n",
      "Data variables:\n",
      "    TEMP1        (STATION, PRES) float64 31kB nan nan nan 5.123 ... nan nan nan\n",
      "    CNDC1        (STATION, PRES) float64 31kB nan nan nan 3.106 ... nan nan nan\n",
      "    flSP         (STATION, PRES) float64 31kB nan nan nan 0.4117 ... nan nan nan\n",
      "    PSAL1        (STATION, PRES) float64 31kB nan nan nan nan ... nan nan nan\n",
      "    gsw_saA0     (STATION, PRES) float64 31kB nan nan nan nan ... nan nan nan\n",
      "    gsw_ctA0     (STATION, PRES) float64 31kB nan nan nan nan ... nan nan nan\n",
      "    SBE_FLAG     (STATION, PRES) float64 31kB nan nan nan 0.0 ... nan nan nan\n",
      "    TIME_SAMPLE  (STATION, PRES) float64 31kB nan nan nan ... nan nan nan\n",
      "    LATITUDE     (STATION) float64 96B nan 70.01 69.36 69.49 ... 69.44 nan 69.45\n",
      "    LONGITUDE    (STATION) float64 96B nan 20.41 20.06 20.31 ... 20.23 nan 20.26\n",
      "    CRUISE       <U27 108B '!! CRUISE (Not assigned) !!'\n",
      "    PROCESSING   object 8B None\n",
      "Attributes:\n",
      "    binned:        1 decibars (SBE software)\n",
      "    history:       2024-04-24 to 2024-09-13: Data collection.\\n2024-09-11 to ...\n",
      "    ship:          BP\n",
      "    source_files:  E.g. STNR0072.HEX, BERET.XMLCON -> PROC\\STNR0072_BIN.CNV\n",
      "    featureType:   profile\n"
     ]
    }
   ],
   "source": [
    "print(ds_ctd_calc)"
   ]
  },
  {
   "cell_type": "code",
   "execution_count": 12,
   "id": "e7f5f215-2578-4470-8b1d-8283079f864c",
   "metadata": {},
   "outputs": [
    {
     "name": "stdout",
     "output_type": "stream",
     "text": [
      "<xarray.Dataset> Size: 288B\n",
      "Dimensions:           (STATION: 9)\n",
      "Coordinates:\n",
      "    dim_0             (STATION) int64 72B 0 29 66 103 137 171 205 242 279\n",
      "  * STATION           (STATION) object 72B '72' '74' '83' ... '118' '127' '133'\n",
      "Data variables:\n",
      "    decimalLatitude   (STATION) float64 72B 70.01 69.36 69.49 ... 69.44 69.45\n",
      "    decimalLongitude  (STATION) float64 72B 20.41 20.06 20.31 ... 20.23 20.26\n"
     ]
    }
   ],
   "source": [
    "print(ds_loc)"
   ]
  },
  {
   "cell_type": "code",
   "execution_count": 13,
   "id": "b44bdabb-2e46-4fbc-897a-98284a6ea65c",
   "metadata": {},
   "outputs": [
    {
     "name": "stdout",
     "output_type": "stream",
     "text": [
      "<xarray.Dataset> Size: 252kB\n",
      "Dimensions:      (STATION: 12, PRES: 323)\n",
      "Coordinates:\n",
      "  * STATION      (STATION) <U10 480B '60' '72' '74' '83' ... '127' '132' '133'\n",
      "  * PRES         (PRES) float64 3kB 2.0 3.0 4.0 5.0 ... 322.0 323.0 324.0 325.0\n",
      "    TIME         (STATION) float64 96B 1.984e+04 1.998e+04 ... 1.998e+04\n",
      "    dim_0        (STATION) float64 96B nan 0.0 29.0 66.0 ... 242.0 nan 279.0\n",
      "Data variables:\n",
      "    TEMP1        (STATION, PRES) float64 31kB nan nan nan 5.123 ... nan nan nan\n",
      "    CNDC1        (STATION, PRES) float64 31kB nan nan nan 3.106 ... nan nan nan\n",
      "    flSP         (STATION, PRES) float64 31kB nan nan nan 0.4117 ... nan nan nan\n",
      "    PSAL1        (STATION, PRES) float64 31kB nan nan nan nan ... nan nan nan\n",
      "    gsw_saA0     (STATION, PRES) float64 31kB nan nan nan nan ... nan nan nan\n",
      "    gsw_ctA0     (STATION, PRES) float64 31kB nan nan nan nan ... nan nan nan\n",
      "    SBE_FLAG     (STATION, PRES) float64 31kB nan nan nan 0.0 ... nan nan nan\n",
      "    TIME_SAMPLE  (STATION, PRES) float64 31kB nan nan nan ... nan nan nan\n",
      "    LATITUDE     (STATION) float64 96B nan 70.01 69.36 69.49 ... 69.44 nan 69.45\n",
      "    LONGITUDE    (STATION) float64 96B nan 20.41 20.06 20.31 ... 20.23 nan 20.26\n",
      "    CRUISE       <U27 108B '!! CRUISE (Not assigned) !!'\n",
      "    PROCESSING   object 8B None\n",
      "Attributes:\n",
      "    binned:        1 decibars (SBE software)\n",
      "    history:       2024-04-24 to 2024-09-13: Data collection.\\n2024-09-11 to ...\n",
      "    ship:          BP\n",
      "    source_files:  E.g. STNR0072.HEX, BERET.XMLCON -> PROC\\STNR0072_BIN.CNV\n",
      "    featureType:   profile\n"
     ]
    }
   ],
   "source": [
    "print(ds_ctd_calc)"
   ]
  },
  {
   "cell_type": "code",
   "execution_count": 14,
   "id": "92b914e9-013d-4606-bba0-96e350c759fb",
   "metadata": {},
   "outputs": [],
   "source": [
    "# Do some standard tweaks to metadata (not necessarily ideal formatting)\n",
    "ds_ctd = ctd.metadata_auto(ds_ctd)"
   ]
  },
  {
   "cell_type": "code",
   "execution_count": 15,
   "id": "1efafae1-2284-440f-bbf2-e72c4b287e8a",
   "metadata": {},
   "outputs": [
    {
     "name": "stdout",
     "output_type": "stream",
     "text": [
      "<xarray.Dataset> Size: 252kB\n",
      "Dimensions:      (TIME: 12, PRES: 323)\n",
      "Coordinates:\n",
      "    STATION      (TIME) <U10 480B '60' '72' '74' '83' ... '127' '132' '133'\n",
      "  * PRES         (PRES) float64 3kB 2.0 3.0 4.0 5.0 ... 322.0 323.0 324.0 325.0\n",
      "  * TIME         (TIME) float64 96B 1.984e+04 1.998e+04 ... 1.998e+04 1.998e+04\n",
      "    dim_0        (TIME) float64 96B nan 0.0 29.0 66.0 ... 205.0 242.0 nan 279.0\n",
      "Data variables:\n",
      "    TEMP         (TIME, PRES) float64 31kB nan nan nan 5.123 ... nan nan nan nan\n",
      "    CNDC         (TIME, PRES) float64 31kB nan nan nan 3.106 ... nan nan nan nan\n",
      "    flSP         (TIME, PRES) float64 31kB nan nan nan 0.4117 ... nan nan nan\n",
      "    PSAL         (TIME, PRES) float64 31kB nan nan nan nan ... nan nan nan nan\n",
      "    gsw_saA      (TIME, PRES) float64 31kB nan nan nan nan ... nan nan nan nan\n",
      "    gsw_ctA      (TIME, PRES) float64 31kB nan nan nan nan ... nan nan nan nan\n",
      "    SBE_FLAG     (TIME, PRES) float64 31kB nan nan nan 0.0 ... nan nan nan nan\n",
      "    TIME_SAMPLE  (TIME, PRES) float64 31kB nan nan nan 1.984e+04 ... nan nan nan\n",
      "    LATITUDE     (TIME) float64 96B nan 70.01 69.36 69.49 ... 69.44 nan 69.45\n",
      "    LONGITUDE    (TIME) float64 96B nan 20.41 20.06 20.31 ... 20.23 nan 20.26\n",
      "    CRUISE       <U27 108B '!! CRUISE (Not assigned) !!'\n",
      "    PROCESSING   object 8B None\n",
      "Attributes: (12/43)\n",
      "    history:                         2024-04-24 to 2024-09-13: Data collectio...\n",
      "    source:                          CTD profiles from SBE911+\n",
      "    instrument:                      In Situ/Laboratory Instruments>Profilers...\n",
      "    platform:                        Water-based Platforms>Vessels\n",
      "    institution:                     Norwegian Polar Institute (NPI)\n",
      "    license:                         CC-BY 4.0\n",
      "    ...                              ...\n",
      "    instrument_vocabulary:           NASA/GCMD Instrument Keywords Version 17.2\n",
      "    keywords_vocabulary:             NASA/GCMD Science Keywords 9.1.5\n",
      "    iso_topic_category:              oceans\n",
      "    Conventions:                     ACDD-1.3, CF-1.8\n",
      "    naming_authority:                npolar.no\n",
      "    ship:                            BP\n"
     ]
    }
   ],
   "source": [
    "print(ds_ctd)"
   ]
  },
  {
   "cell_type": "markdown",
   "id": "0f13d0fa-9de2-4356-ba54-08a4e22ca3b6",
   "metadata": {},
   "source": [
    "#### Create binned RBR data\n",
    "\n",
    "Binned data for PAR"
   ]
  },
  {
   "cell_type": "code",
   "execution_count": 16,
   "id": "cecac40f-826b-410c-a8e1-38bf2c522913",
   "metadata": {},
   "outputs": [],
   "source": [
    "# get unbinned PAR data from excel sheet\n",
    "\n",
    "path_RBR = '../../../../logsheets/iC3-field_school_RBR.xlsx'\n",
    "\n",
    "# Import the data\n",
    "RBR_unbin = pd.read_excel(path_RBR, sheet_name= 'Data', header = 1)\n",
    "\n",
    "# Import the information about the profiles\n",
    "RBR_profiles = pd.read_excel(path_RBR, sheet_name= 'Profile annotation', header = 1)"
   ]
  },
  {
   "cell_type": "code",
   "execution_count": 17,
   "id": "dd55dc15-d75a-40df-aa80-351b4666fb17",
   "metadata": {},
   "outputs": [
    {
     "name": "stdout",
     "output_type": "stream",
     "text": [
      "                    Time 1                  Time 2        Label     Type   ID\n",
      "0  2024-09-11 10:13:15.500 2024-09-11 10:38:03.500       LYNG01  PROFILE   74\n",
      "1  2024-09-11 10:13:15.500 2024-09-11 10:30:24.000       LYNG01     DOWN   74\n",
      "2  2024-09-11 10:30:24.000 2024-09-11 10:38:03.500       LYNG01       UP   74\n",
      "3  2024-09-11 14:43:09.000 2024-09-11 14:48:44.000       LYNG14  PROFILE   83\n",
      "4  2024-09-11 14:43:09.000 2024-09-11 14:46:40.000       LYNG14     DOWN   83\n",
      "5  2024-09-11 14:46:40.000 2024-09-11 14:48:44.000       LYNG14       UP   83\n",
      "6  2024-09-12 10:02:57.500 2024-09-12 10:15:51.000   LYNG-iC3-W  PROFILE   95\n",
      "7  2024-09-12 10:02:57.500 2024-09-12 10:11:19.000   LYNG-iC3-W     DOWN   95\n",
      "8  2024-09-12 10:11:19.000 2024-09-12 10:15:51.000   LYNG-iC3-W       UP   95\n",
      "9  2024-09-12 12:15:30.500 2024-09-12 12:28:07.000   LYNG-iC3-M  PROFILE  106\n",
      "10 2024-09-12 12:15:30.500 2024-09-12 12:22:50.000   LYNG-iC3-M     DOWN  106\n",
      "11 2024-09-12 12:22:50.000 2024-09-12 12:28:07.000   LYNG-iC3-M       UP  106\n",
      "12 2024-09-12 13:48:41.000 2024-09-12 14:03:14.500   LYNG-iC3-E  PROFILE  113\n",
      "13 2024-09-12 13:48:41.000 2024-09-12 13:57:40.500   LYNG-iC3-E     DOWN  113\n",
      "14 2024-09-12 13:57:40.500 2024-09-12 14:03:14.500   LYNG-iC3-E       UP  113\n",
      "15 2024-09-13 09:33:58.500 2024-09-13 09:52:13.000  LYNG-iC3-FW  PROFILE  118\n",
      "16 2024-09-13 09:33:58.500 2024-09-13 09:45:31.000  LYNG-iC3-FW     DOWN  118\n",
      "17 2024-09-13 09:45:31.000 2024-09-13 09:52:13.000  LYNG-iC3-FW       UP  118\n",
      "18 2024-09-13 12:17:44.500 2024-09-13 12:39:07.500  LYNG-iC3-FM  PROFILE  127\n",
      "19 2024-09-13 12:17:44.500 2024-09-13 12:30:08.500  LYNG-iC3-FM     DOWN  127\n",
      "20 2024-09-13 12:30:08.500 2024-09-13 12:39:07.500  LYNG-iC3-FM       UP  127\n",
      "21 2024-09-13 14:09:42.500 2024-09-13 14:16:20.000  LYNG-iC3-FE  PROFILE  133\n",
      "22 2024-09-13 14:09:42.500 2024-09-13 14:13:36.500  LYNG-iC3-FE     DOWN  133\n",
      "23 2024-09-13 14:13:36.500 2024-09-13 14:16:20.000  LYNG-iC3-FE       UP  133\n",
      "      Unnamed: 0                    Time  Conductivity  Temperature  \\\n",
      "0         LYNG01                     NaT           NaN          NaN   \n",
      "1            NaN 2024-09-11 10:17:17.000     38.206983    12.535727   \n",
      "2            NaN 2024-09-11 10:17:17.500     38.200909    12.535780   \n",
      "3            NaN 2024-09-11 10:17:18.000     38.217469    12.535051   \n",
      "4            NaN 2024-09-11 10:17:18.500     38.205747    12.535066   \n",
      "...          ...                     ...           ...          ...   \n",
      "11397        NaN 2024-09-13 14:16:04.000     38.233472    12.344809   \n",
      "11398        NaN 2024-09-13 14:16:04.500     38.231576    12.348415   \n",
      "11399        NaN 2024-09-13 14:16:05.000     38.223821    12.344833   \n",
      "11400        NaN 2024-09-13 14:16:05.500     38.179144    12.338184   \n",
      "11401        NaN 2024-09-13 14:16:06.000     38.176759    12.335423   \n",
      "\n",
      "        Pressure  Chlorophyll         PAR  Sea pressure     Depth   Salinity  \\\n",
      "0            NaN          NaN         NaN           NaN       NaN        NaN   \n",
      "1      11.625118     1.819879  155.007592      1.492618  1.480446  32.782789   \n",
      "2      11.625972     1.671013  164.275333      1.493472  1.481294  32.776938   \n",
      "3      11.644518     1.696142  155.053435      1.512018  1.499688  32.793390   \n",
      "4      11.699749     1.757505  163.867463      1.567249  1.554469  32.782153   \n",
      "...          ...          ...         ...           ...       ...        ...   \n",
      "11397  11.653579     0.615798  252.913820      1.521079  1.508676  32.975387   \n",
      "11398  11.278170     0.600817  339.603296      1.145670  1.136327  32.970548   \n",
      "11399  10.947959     0.578420  379.827327      0.815459  0.808810  32.966387   \n",
      "11400  10.667169     0.521989  344.648744      0.534669  0.530309  32.929429   \n",
      "11401  10.367426     0.544883  714.666004      0.234926  0.233011  32.929689   \n",
      "\n",
      "       Speed of sound  Specific conductivity  Density anomaly  \n",
      "0                 NaN                    NaN              NaN  \n",
      "1         1496.029201           50141.066240        24.772643  \n",
      "2         1496.022442           50133.028177        24.768102  \n",
      "3         1496.039836           50155.676301        24.781077  \n",
      "4         1496.027439           50140.274492        24.772613  \n",
      "...               ...                    ...              ...  \n",
      "11397     1495.610713           50417.160375        24.958631  \n",
      "11398     1495.611026           50410.079641        24.952504  \n",
      "11399     1495.588440           50404.403036        24.948475  \n",
      "11400     1495.517177           50353.922317        24.919821  \n",
      "11401     1495.503145           50354.280452        24.919201  \n",
      "\n",
      "[11402 rows x 13 columns]\n"
     ]
    }
   ],
   "source": [
    "# check/visualize dataframes\n",
    "\n",
    "print(RBR_profiles)\n",
    "print(RBR_unbin)"
   ]
  },
  {
   "cell_type": "code",
   "execution_count": 18,
   "id": "672dcd4e-22a7-44f7-8327-df48b42d609b",
   "metadata": {},
   "outputs": [],
   "source": [
    "# Bin the RBR dataframe, according to the information provided about the profiles\n",
    "\n",
    "# Create a dictionary to hold the filtered DataFrames\n",
    "filtered_profiles = {}\n",
    "\n",
    "# Iterate through each range in RBR_profiles in order to get the start and end time of each RBR profile\n",
    "for index, row in RBR_profiles.iterrows():\n",
    "    lower_bound = row['Time 1']\n",
    "    upper_bound = row['Time 2']\n",
    "    \n",
    "    # Filter RBR_unbin based on time bounds of profiles and make a copy\n",
    "    RBRu_profiles = RBR_unbin[(RBR_unbin['Time'] >= lower_bound) & (RBR_unbin['Time'] <= upper_bound)].copy()\n",
    "    \n",
    "    # Create a name for the new DataFrame indicating the station ID and if it is a full profile or up or down\n",
    "    profile_name = f\"{row['ID']}_{row['Type']}\"\n",
    "    \n",
    "    # Store the filtered DataFrame in the created dictionary\n",
    "    filtered_profiles[profile_name] = RBRu_profiles\n",
    "\n",
    "# Bin the profiles based on pressure at steps of 1\n",
    "binned_profiles = {}\n",
    "\n",
    "for profile_name, df in filtered_profiles.items():\n",
    "    # Determine the min and max pressure for the specific profile\n",
    "    min_pressure = np.floor(df['Pressure'].min()).astype(int)  # Closest lower integer to min value \n",
    "    max_pressure = np.ceil(df['Pressure'].max()).astype(int)   # Closest higher integer to max value\n",
    "    \n",
    "    # Create specific bins for each profile depend on its specific  depth\n",
    "    bins = np.arange(min_pressure, max_pressure + 2, 1)  # +2 to include the max value\n",
    "    \n",
    "    # Bin the pressure column\n",
    "    df.loc[:, 'Pressure_Binned'] = pd.cut(df['Pressure'], bins=bins, right=False)\n",
    "    \n",
    "    # Group by the binned pressure and calculate mean for other columns\n",
    "    binned_df = df.groupby('Pressure_Binned', observed=False).mean().reset_index()\n",
    "    \n",
    "    # Create labels based on the lower integer of the binned pressure mean\n",
    "    binned_df['Pressure_Binned'] = binned_df['Pressure_Binned'].apply(lambda x: int(x.left))  # Take the left edge of the bin as label\n",
    "    \n",
    "    # Store the binned DataFrame in a new dictionary\n",
    "    binned_profiles[profile_name] = binned_df\n",
    "\n",
    "# Now binned_profiles contains the binned results for each profile"
   ]
  },
  {
   "cell_type": "code",
   "execution_count": 19,
   "id": "303e19b0-0387-4619-9b8f-1c728cd5df32",
   "metadata": {},
   "outputs": [
    {
     "name": "stdout",
     "output_type": "stream",
     "text": [
      "Binned RBR results saved to binned_RBR_profiles.xlsx\n"
     ]
    }
   ],
   "source": [
    "# Safe the binned RBR data to an excel\n",
    "\n",
    "#Define file path\n",
    "output_file = 'binned_RBR_profiles.xlsx'\n",
    "\n",
    "# Create an Excel writer object\n",
    "with pd.ExcelWriter(output_file) as writer:\n",
    "    # Iterate through each binned DataFrame / Profile and save it to the Excel file\n",
    "    for profile_name, binned_df in binned_profiles.items():\n",
    "        # Write each Profile to a separate sheet\n",
    "        binned_df.to_excel(writer, sheet_name=profile_name, index=False)\n",
    "\n",
    "print(f\"Binned RBR results saved to {output_file}\")"
   ]
  },
  {
   "cell_type": "markdown",
   "id": "24ab94be-bc4f-4bf1-8799-6ca7a0f12dc3",
   "metadata": {
    "jp-MarkdownHeadingCollapsed": true
   },
   "source": [
    "#### Look at the file \n",
    "\n",
    "Click-browse through variables and attributes to see that everything looks good."
   ]
  },
  {
   "cell_type": "markdown",
   "id": "ba4b7850-66ae-4f01-b3e8-bc69ddf06eee",
   "metadata": {},
   "source": [
    "## Quick looks\n",
    "Note: Good practice to close the plots when you are done. Otherwise, they still take up memory."
   ]
  },
  {
   "cell_type": "markdown",
   "id": "436efe68-d122-4d40-8b2b-2d119d7c395d",
   "metadata": {},
   "source": [
    "#### Look at profile locations on a map"
   ]
  },
  {
   "cell_type": "code",
   "execution_count": 120,
   "id": "258fe630-612d-4fe7-9cf4-4cd60ee273b1",
   "metadata": {
    "scrolled": true
   },
   "outputs": [
    {
     "data": {
      "application/vnd.jupyter.widget-view+json": {
       "model_id": "",
       "version_major": 2,
       "version_minor": 0
      },
      "text/plain": [
       "HBox(children=(Button(description='Close', style=ButtonStyle()), Button(description='Original Size', style=But…"
      ]
     },
     "metadata": {},
     "output_type": "display_data"
    },
    {
     "data": {
      "application/vnd.jupyter.widget-view+json": {
       "model_id": "7d2b757c99514dd78eb8f55c5179db7c",
       "version_major": 2,
       "version_minor": 0
      },
      "image/png": "[encoded data removed]",
      "text/html": [
       "\n",
       "            <div style=\"display: inline-block;\">\n",
       "                <div class=\"jupyter-widgets widget-label\" style=\"text-align: center;\">\n",
       "                    Figure\n",
       "                </div>\n",
       "                <img src='data:image/png;base64,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' width=400.0/>\n",
       "            </div>\n",
       "        "
      ],
      "text/plain": [
       "Canvas(header_visible=False, toolbar=Toolbar(toolitems=[('Home', 'Reset original view', 'home', 'home'), ('Bac…"
      ]
     },
     "metadata": {},
     "output_type": "display_data"
    }
   ],
   "source": [
    "ctd.map(ds_ctd)"
   ]
  },
  {
   "cell_type": "markdown",
   "id": "48b058aa-af0a-40a7-bd55-b31a1b90e5b9",
   "metadata": {},
   "source": [
    "#### Look at some contours of the data\n",
    "\n",
    "Use the interactive functionality to look through variables etc."
   ]
  },
  {
   "cell_type": "code",
   "execution_count": 121,
   "id": "40fc1b28-f55d-4718-bdaf-8c11b395a68e",
   "metadata": {},
   "outputs": [
    {
     "data": {
      "application/vnd.jupyter.widget-view+json": {
       "model_id": "",
       "version_major": 2,
       "version_minor": 0
      },
      "text/plain": [
       "VBox(children=(HBox(children=(Dropdown(description='Variable 1:', options=('TEMP', 'CNDC', 'flSP', 'PSAL', 'gs…"
      ]
     },
     "metadata": {},
     "output_type": "display_data"
    }
   ],
   "source": [
    "ctd.contour(ds_ctd)"
   ]
  },
  {
   "cell_type": "markdown",
   "id": "f95f1213-130e-4bd4-8606-8f9bb3504c7d",
   "metadata": {},
   "source": [
    "#### Inspect individual profiles"
   ]
  },
  {
   "cell_type": "code",
   "execution_count": 122,
   "id": "d743a66f-e9fe-422b-a44c-f7ec4b4a49c3",
   "metadata": {
    "scrolled": true
   },
   "outputs": [
    {
     "data": {
      "application/vnd.jupyter.widget-view+json": {
       "model_id": "",
       "version_major": 2,
       "version_minor": 0
      },
      "text/plain": [
       "VBox(children=(HBox(children=(IntSlider(value=0, continuous_update=False, description='Profile #:', layout=Lay…"
      ]
     },
     "metadata": {},
     "output_type": "display_data"
    }
   ],
   "source": [
    "ctd.inspect_profiles(ds_ctd)"
   ]
  },
  {
   "cell_type": "markdown",
   "id": "f99a7dd0-55b5-4fa9-9a74-ed08f88e4efc",
   "metadata": {},
   "source": [
    "There is a weird spike to low salinities in profile 8. That one should be corrected manually.\n",
    "\n",
    "Now, let's make your own T-S diagram for water mass identification\n",
    "\n",
    "For more fancy stuff, explore: https://xoa.readthedocs.io/en/develop/api/xoa.plot.plot_ts.html from https://xoa.readthedocs.io"
   ]
  },
  {
   "cell_type": "code",
   "execution_count": 127,
   "id": "c913c832-aa31-45c8-84fa-961207522b65",
   "metadata": {},
   "outputs": [],
   "source": [
    "fig, ax = plt.subplots()\n",
    "\n",
    "# Plot all profiles on to p of each other\n",
    "for nn in np.arange(ds_ctd.sizes['TIME']):\n",
    "    x = ds_ctd['gsw_saA'].isel(TIME=nn, drop=True).squeeze()\n",
    "    y = ds_ctd['gsw_ctA'].isel(TIME=nn, drop=True).squeeze()\n",
    "    ax.plot(x, y, color='tab:blue', lw=0.5, alpha=1)\n",
    "\n",
    "ax.set_xlabel('absolute salinity (kg/m3)')\n",
    "ax.set_ylabel('conservative temperature ($^\\circ$C)')\n",
    "\n",
    "#improved version farther down\n",
    "\n",
    "# Save as png\n",
    "plt.savefig('../../../../plots/basic_TS_diagram.png') \n",
    "\n",
    "plt.close()"
   ]
  },
  {
   "cell_type": "markdown",
   "id": "6296c981-6ff3-43e8-986d-72e27635c748",
   "metadata": {},
   "source": [
    "### Export to .netcdf and .mat format\n",
    "\n",
    "Next we export the data to commonly used netcdf format. Note that we haven't really applied any post-processing steps, just joined the profiles and added some metadata. Since no quality control/ processing has been applied yet, we use a preliminary filename (unprocessed). Use the \"Editing.ipynb\" notebook to read the netcdf fiel and further process the data.  In case it is useful the dataset can also be exported for analysis in Matlab."
   ]
  },
  {
   "cell_type": "code",
   "execution_count": 130,
   "id": "bc372331-8141-42f5-a865-4dca519127ed",
   "metadata": {},
   "outputs": [
    {
     "name": "stdout",
     "output_type": "stream",
     "text": [
      "Updated history attribute. Current content:\n",
      "---\n",
      "2024-04-24 to 2024-09-13: Data collection.\n",
      "2024-09-11 to 2024-09-13: Processed to .cnv using SBE software (details in \"PROCESSING.SBE_processing\").\n",
      "2024-10-24: Post-processing.\n",
      "2024-10-24: Creation of this netcdf file.\n",
      "---\n"
     ]
    },
    {
     "name": "stdin",
     "output_type": "stream",
     "text": [
      "The file ..\\..\\..\\..\\netcdf\\iC3-24-3-BP_unprocessed.nc already exists. Do you want to overwrite it? (y/n):  y\n"
     ]
    },
    {
     "ename": "PermissionError",
     "evalue": "[WinError 32] The process cannot access the file because it is being used by another process: '..\\\\..\\\\..\\\\..\\\\netcdf\\\\iC3-24-3-BP_unprocessed.nc'",
     "output_type": "error",
     "traceback": [
      "\u001b[1;31m---------------------------------------------------------------------------\u001b[0m",
      "\u001b[1;31mKeyError\u001b[0m                                  Traceback (most recent call last)",
      "File \u001b[1;32m~\\AppData\\Local\\miniforge3\\envs\\kval_ctd\\Lib\\site-packages\\xarray\\backends\\file_manager.py:211\u001b[0m, in \u001b[0;36mCachingFileManager._acquire_with_cache_info\u001b[1;34m(self, needs_lock)\u001b[0m\n\u001b[0;32m    210\u001b[0m \u001b[38;5;28;01mtry\u001b[39;00m:\n\u001b[1;32m--> 211\u001b[0m     file \u001b[38;5;241m=\u001b[39m \u001b[38;5;28;43mself\u001b[39;49m\u001b[38;5;241;43m.\u001b[39;49m\u001b[43m_cache\u001b[49m\u001b[43m[\u001b[49m\u001b[38;5;28;43mself\u001b[39;49m\u001b[38;5;241;43m.\u001b[39;49m\u001b[43m_key\u001b[49m\u001b[43m]\u001b[49m\n\u001b[0;32m    212\u001b[0m \u001b[38;5;28;01mexcept\u001b[39;00m \u001b[38;5;167;01mKeyError\u001b[39;00m:\n",
      "File \u001b[1;32m~\\AppData\\Local\\miniforge3\\envs\\kval_ctd\\Lib\\site-packages\\xarray\\backends\\lru_cache.py:56\u001b[0m, in \u001b[0;36mLRUCache.__getitem__\u001b[1;34m(self, key)\u001b[0m\n\u001b[0;32m     55\u001b[0m \u001b[38;5;28;01mwith\u001b[39;00m \u001b[38;5;28mself\u001b[39m\u001b[38;5;241m.\u001b[39m_lock:\n\u001b[1;32m---> 56\u001b[0m     value \u001b[38;5;241m=\u001b[39m \u001b[38;5;28;43mself\u001b[39;49m\u001b[38;5;241;43m.\u001b[39;49m\u001b[43m_cache\u001b[49m\u001b[43m[\u001b[49m\u001b[43mkey\u001b[49m\u001b[43m]\u001b[49m\n\u001b[0;32m     57\u001b[0m     \u001b[38;5;28mself\u001b[39m\u001b[38;5;241m.\u001b[39m_cache\u001b[38;5;241m.\u001b[39mmove_to_end(key)\n",
      "\u001b[1;31mKeyError\u001b[0m: [<class 'netCDF4._netCDF4.Dataset'>, ('C:\\\\Users\\\\rirun2565\\\\CTD-classic\\\\iC3_field_school_2024\\\\netcdf\\\\iC3-24-3-BP_unprocessed.nc',), 'a', (('clobber', True), ('diskless', False), ('format', 'NETCDF4'), ('persist', False)), '7581afe4-f036-427f-9c15-42d2e41b0524']",
      "\nDuring handling of the above exception, another exception occurred:\n",
      "\u001b[1;31mPermissionError\u001b[0m                           Traceback (most recent call last)",
      "File \u001b[1;32m~\\AppData\\Local\\miniforge3\\envs\\kval_ctd\\Lib\\site-packages\\kval\\data\\dataset.py:144\u001b[0m, in \u001b[0;36mto_netcdf\u001b[1;34m(D, path, file_name, convention_check, add_to_history, verbose)\u001b[0m\n\u001b[0;32m    143\u001b[0m \u001b[38;5;28;01mtry\u001b[39;00m:\n\u001b[1;32m--> 144\u001b[0m     \u001b[43mD\u001b[49m\u001b[38;5;241;43m.\u001b[39;49m\u001b[43mto_netcdf\u001b[49m\u001b[43m(\u001b[49m\u001b[43mfile_path\u001b[49m\u001b[43m)\u001b[49m\n\u001b[0;32m    146\u001b[0m \u001b[38;5;28;01mexcept\u001b[39;00m \u001b[38;5;167;01mPermissionError\u001b[39;00m:\n\u001b[0;32m    147\u001b[0m     \u001b[38;5;66;03m# Handle file overwrite if permission error occurs\u001b[39;00m\n",
      "File \u001b[1;32m~\\AppData\\Local\\miniforge3\\envs\\kval_ctd\\Lib\\site-packages\\xarray\\core\\dataset.py:2338\u001b[0m, in \u001b[0;36mDataset.to_netcdf\u001b[1;34m(self, path, mode, format, group, engine, encoding, unlimited_dims, compute, invalid_netcdf)\u001b[0m\n\u001b[0;32m   2336\u001b[0m \u001b[38;5;28;01mfrom\u001b[39;00m \u001b[38;5;21;01mxarray\u001b[39;00m\u001b[38;5;21;01m.\u001b[39;00m\u001b[38;5;21;01mbackends\u001b[39;00m\u001b[38;5;21;01m.\u001b[39;00m\u001b[38;5;21;01mapi\u001b[39;00m \u001b[38;5;28;01mimport\u001b[39;00m to_netcdf\n\u001b[1;32m-> 2338\u001b[0m \u001b[38;5;28;01mreturn\u001b[39;00m \u001b[43mto_netcdf\u001b[49m\u001b[43m(\u001b[49m\u001b[43m  \u001b[49m\u001b[38;5;66;43;03m# type: ignore[return-value]  # mypy cannot resolve the overloads:(\u001b[39;49;00m\n\u001b[0;32m   2339\u001b[0m \u001b[43m    \u001b[49m\u001b[38;5;28;43mself\u001b[39;49m\u001b[43m,\u001b[49m\n\u001b[0;32m   2340\u001b[0m \u001b[43m    \u001b[49m\u001b[43mpath\u001b[49m\u001b[43m,\u001b[49m\n\u001b[0;32m   2341\u001b[0m \u001b[43m    \u001b[49m\u001b[43mmode\u001b[49m\u001b[38;5;241;43m=\u001b[39;49m\u001b[43mmode\u001b[49m\u001b[43m,\u001b[49m\n\u001b[0;32m   2342\u001b[0m \u001b[43m    \u001b[49m\u001b[38;5;28;43mformat\u001b[39;49m\u001b[38;5;241;43m=\u001b[39;49m\u001b[38;5;28;43mformat\u001b[39;49m\u001b[43m,\u001b[49m\n\u001b[0;32m   2343\u001b[0m \u001b[43m    \u001b[49m\u001b[43mgroup\u001b[49m\u001b[38;5;241;43m=\u001b[39;49m\u001b[43mgroup\u001b[49m\u001b[43m,\u001b[49m\n\u001b[0;32m   2344\u001b[0m \u001b[43m    \u001b[49m\u001b[43mengine\u001b[49m\u001b[38;5;241;43m=\u001b[39;49m\u001b[43mengine\u001b[49m\u001b[43m,\u001b[49m\n\u001b[0;32m   2345\u001b[0m \u001b[43m    \u001b[49m\u001b[43mencoding\u001b[49m\u001b[38;5;241;43m=\u001b[39;49m\u001b[43mencoding\u001b[49m\u001b[43m,\u001b[49m\n\u001b[0;32m   2346\u001b[0m \u001b[43m    \u001b[49m\u001b[43munlimited_dims\u001b[49m\u001b[38;5;241;43m=\u001b[39;49m\u001b[43munlimited_dims\u001b[49m\u001b[43m,\u001b[49m\n\u001b[0;32m   2347\u001b[0m \u001b[43m    \u001b[49m\u001b[43mcompute\u001b[49m\u001b[38;5;241;43m=\u001b[39;49m\u001b[43mcompute\u001b[49m\u001b[43m,\u001b[49m\n\u001b[0;32m   2348\u001b[0m \u001b[43m    \u001b[49m\u001b[43mmultifile\u001b[49m\u001b[38;5;241;43m=\u001b[39;49m\u001b[38;5;28;43;01mFalse\u001b[39;49;00m\u001b[43m,\u001b[49m\n\u001b[0;32m   2349\u001b[0m \u001b[43m    \u001b[49m\u001b[43minvalid_netcdf\u001b[49m\u001b[38;5;241;43m=\u001b[39;49m\u001b[43minvalid_netcdf\u001b[49m\u001b[43m,\u001b[49m\n\u001b[0;32m   2350\u001b[0m \u001b[43m\u001b[49m\u001b[43m)\u001b[49m\n",
      "File \u001b[1;32m~\\AppData\\Local\\miniforge3\\envs\\kval_ctd\\Lib\\site-packages\\xarray\\backends\\api.py:1403\u001b[0m, in \u001b[0;36mto_netcdf\u001b[1;34m(dataset, path_or_file, mode, format, group, engine, encoding, unlimited_dims, compute, multifile, invalid_netcdf)\u001b[0m\n\u001b[0;32m   1400\u001b[0m         \u001b[38;5;28;01mraise\u001b[39;00m \u001b[38;5;167;01mValueError\u001b[39;00m(\n\u001b[0;32m   1401\u001b[0m             \u001b[38;5;124mf\u001b[39m\u001b[38;5;124m\"\u001b[39m\u001b[38;5;124munrecognized option \u001b[39m\u001b[38;5;124m'\u001b[39m\u001b[38;5;124minvalid_netcdf\u001b[39m\u001b[38;5;124m'\u001b[39m\u001b[38;5;124m for engine \u001b[39m\u001b[38;5;132;01m{\u001b[39;00mengine\u001b[38;5;132;01m}\u001b[39;00m\u001b[38;5;124m\"\u001b[39m\n\u001b[0;32m   1402\u001b[0m         )\n\u001b[1;32m-> 1403\u001b[0m store \u001b[38;5;241m=\u001b[39m \u001b[43mstore_open\u001b[49m\u001b[43m(\u001b[49m\u001b[43mtarget\u001b[49m\u001b[43m,\u001b[49m\u001b[43m \u001b[49m\u001b[43mmode\u001b[49m\u001b[43m,\u001b[49m\u001b[43m \u001b[49m\u001b[38;5;28;43mformat\u001b[39;49m\u001b[43m,\u001b[49m\u001b[43m \u001b[49m\u001b[43mgroup\u001b[49m\u001b[43m,\u001b[49m\u001b[43m \u001b[49m\u001b[38;5;241;43m*\u001b[39;49m\u001b[38;5;241;43m*\u001b[39;49m\u001b[43mkwargs\u001b[49m\u001b[43m)\u001b[49m\n\u001b[0;32m   1405\u001b[0m \u001b[38;5;28;01mif\u001b[39;00m unlimited_dims \u001b[38;5;129;01mis\u001b[39;00m \u001b[38;5;28;01mNone\u001b[39;00m:\n",
      "File \u001b[1;32m~\\AppData\\Local\\miniforge3\\envs\\kval_ctd\\Lib\\site-packages\\xarray\\backends\\netCDF4_.py:410\u001b[0m, in \u001b[0;36mNetCDF4DataStore.open\u001b[1;34m(cls, filename, mode, format, group, clobber, diskless, persist, lock, lock_maker, autoclose)\u001b[0m\n\u001b[0;32m    407\u001b[0m manager \u001b[38;5;241m=\u001b[39m CachingFileManager(\n\u001b[0;32m    408\u001b[0m     netCDF4\u001b[38;5;241m.\u001b[39mDataset, filename, mode\u001b[38;5;241m=\u001b[39mmode, kwargs\u001b[38;5;241m=\u001b[39mkwargs\n\u001b[0;32m    409\u001b[0m )\n\u001b[1;32m--> 410\u001b[0m \u001b[38;5;28;01mreturn\u001b[39;00m \u001b[38;5;28;43mcls\u001b[39;49m\u001b[43m(\u001b[49m\u001b[43mmanager\u001b[49m\u001b[43m,\u001b[49m\u001b[43m \u001b[49m\u001b[43mgroup\u001b[49m\u001b[38;5;241;43m=\u001b[39;49m\u001b[43mgroup\u001b[49m\u001b[43m,\u001b[49m\u001b[43m \u001b[49m\u001b[43mmode\u001b[49m\u001b[38;5;241;43m=\u001b[39;49m\u001b[43mmode\u001b[49m\u001b[43m,\u001b[49m\u001b[43m \u001b[49m\u001b[43mlock\u001b[49m\u001b[38;5;241;43m=\u001b[39;49m\u001b[43mlock\u001b[49m\u001b[43m,\u001b[49m\u001b[43m \u001b[49m\u001b[43mautoclose\u001b[49m\u001b[38;5;241;43m=\u001b[39;49m\u001b[43mautoclose\u001b[49m\u001b[43m)\u001b[49m\n",
      "File \u001b[1;32m~\\AppData\\Local\\miniforge3\\envs\\kval_ctd\\Lib\\site-packages\\xarray\\backends\\netCDF4_.py:357\u001b[0m, in \u001b[0;36mNetCDF4DataStore.__init__\u001b[1;34m(self, manager, group, mode, lock, autoclose)\u001b[0m\n\u001b[0;32m    356\u001b[0m \u001b[38;5;28mself\u001b[39m\u001b[38;5;241m.\u001b[39m_mode \u001b[38;5;241m=\u001b[39m mode\n\u001b[1;32m--> 357\u001b[0m \u001b[38;5;28mself\u001b[39m\u001b[38;5;241m.\u001b[39mformat \u001b[38;5;241m=\u001b[39m \u001b[38;5;28;43mself\u001b[39;49m\u001b[38;5;241;43m.\u001b[39;49m\u001b[43mds\u001b[49m\u001b[38;5;241m.\u001b[39mdata_model\n\u001b[0;32m    358\u001b[0m \u001b[38;5;28mself\u001b[39m\u001b[38;5;241m.\u001b[39m_filename \u001b[38;5;241m=\u001b[39m \u001b[38;5;28mself\u001b[39m\u001b[38;5;241m.\u001b[39mds\u001b[38;5;241m.\u001b[39mfilepath()\n",
      "File \u001b[1;32m~\\AppData\\Local\\miniforge3\\envs\\kval_ctd\\Lib\\site-packages\\xarray\\backends\\netCDF4_.py:419\u001b[0m, in \u001b[0;36mNetCDF4DataStore.ds\u001b[1;34m(self)\u001b[0m\n\u001b[0;32m    417\u001b[0m \u001b[38;5;129m@property\u001b[39m\n\u001b[0;32m    418\u001b[0m \u001b[38;5;28;01mdef\u001b[39;00m \u001b[38;5;21mds\u001b[39m(\u001b[38;5;28mself\u001b[39m):\n\u001b[1;32m--> 419\u001b[0m     \u001b[38;5;28;01mreturn\u001b[39;00m \u001b[38;5;28;43mself\u001b[39;49m\u001b[38;5;241;43m.\u001b[39;49m\u001b[43m_acquire\u001b[49m\u001b[43m(\u001b[49m\u001b[43m)\u001b[49m\n",
      "File \u001b[1;32m~\\AppData\\Local\\miniforge3\\envs\\kval_ctd\\Lib\\site-packages\\xarray\\backends\\netCDF4_.py:413\u001b[0m, in \u001b[0;36mNetCDF4DataStore._acquire\u001b[1;34m(self, needs_lock)\u001b[0m\n\u001b[0;32m    412\u001b[0m \u001b[38;5;28;01mdef\u001b[39;00m \u001b[38;5;21m_acquire\u001b[39m(\u001b[38;5;28mself\u001b[39m, needs_lock\u001b[38;5;241m=\u001b[39m\u001b[38;5;28;01mTrue\u001b[39;00m):\n\u001b[1;32m--> 413\u001b[0m \u001b[43m    \u001b[49m\u001b[38;5;28;43;01mwith\u001b[39;49;00m\u001b[43m \u001b[49m\u001b[38;5;28;43mself\u001b[39;49m\u001b[38;5;241;43m.\u001b[39;49m\u001b[43m_manager\u001b[49m\u001b[38;5;241;43m.\u001b[39;49m\u001b[43macquire_context\u001b[49m\u001b[43m(\u001b[49m\u001b[43mneeds_lock\u001b[49m\u001b[43m)\u001b[49m\u001b[43m \u001b[49m\u001b[38;5;28;43;01mas\u001b[39;49;00m\u001b[43m \u001b[49m\u001b[43mroot\u001b[49m\u001b[43m:\u001b[49m\n\u001b[0;32m    414\u001b[0m \u001b[43m        \u001b[49m\u001b[43mds\u001b[49m\u001b[43m \u001b[49m\u001b[38;5;241;43m=\u001b[39;49m\u001b[43m \u001b[49m\u001b[43m_nc4_require_group\u001b[49m\u001b[43m(\u001b[49m\u001b[43mroot\u001b[49m\u001b[43m,\u001b[49m\u001b[43m \u001b[49m\u001b[38;5;28;43mself\u001b[39;49m\u001b[38;5;241;43m.\u001b[39;49m\u001b[43m_group\u001b[49m\u001b[43m,\u001b[49m\u001b[43m \u001b[49m\u001b[38;5;28;43mself\u001b[39;49m\u001b[38;5;241;43m.\u001b[39;49m\u001b[43m_mode\u001b[49m\u001b[43m)\u001b[49m\n",
      "File \u001b[1;32m~\\AppData\\Local\\miniforge3\\envs\\kval_ctd\\Lib\\contextlib.py:137\u001b[0m, in \u001b[0;36m_GeneratorContextManager.__enter__\u001b[1;34m(self)\u001b[0m\n\u001b[0;32m    136\u001b[0m \u001b[38;5;28;01mtry\u001b[39;00m:\n\u001b[1;32m--> 137\u001b[0m     \u001b[38;5;28;01mreturn\u001b[39;00m \u001b[38;5;28mnext\u001b[39m(\u001b[38;5;28mself\u001b[39m\u001b[38;5;241m.\u001b[39mgen)\n\u001b[0;32m    138\u001b[0m \u001b[38;5;28;01mexcept\u001b[39;00m \u001b[38;5;167;01mStopIteration\u001b[39;00m:\n",
      "File \u001b[1;32m~\\AppData\\Local\\miniforge3\\envs\\kval_ctd\\Lib\\site-packages\\xarray\\backends\\file_manager.py:199\u001b[0m, in \u001b[0;36mCachingFileManager.acquire_context\u001b[1;34m(self, needs_lock)\u001b[0m\n\u001b[0;32m    198\u001b[0m \u001b[38;5;250m\u001b[39m\u001b[38;5;124;03m\"\"\"Context manager for acquiring a file.\"\"\"\u001b[39;00m\n\u001b[1;32m--> 199\u001b[0m file, cached \u001b[38;5;241m=\u001b[39m \u001b[38;5;28;43mself\u001b[39;49m\u001b[38;5;241;43m.\u001b[39;49m\u001b[43m_acquire_with_cache_info\u001b[49m\u001b[43m(\u001b[49m\u001b[43mneeds_lock\u001b[49m\u001b[43m)\u001b[49m\n\u001b[0;32m    200\u001b[0m \u001b[38;5;28;01mtry\u001b[39;00m:\n",
      "File \u001b[1;32m~\\AppData\\Local\\miniforge3\\envs\\kval_ctd\\Lib\\site-packages\\xarray\\backends\\file_manager.py:217\u001b[0m, in \u001b[0;36mCachingFileManager._acquire_with_cache_info\u001b[1;34m(self, needs_lock)\u001b[0m\n\u001b[0;32m    216\u001b[0m     kwargs[\u001b[38;5;124m\"\u001b[39m\u001b[38;5;124mmode\u001b[39m\u001b[38;5;124m\"\u001b[39m] \u001b[38;5;241m=\u001b[39m \u001b[38;5;28mself\u001b[39m\u001b[38;5;241m.\u001b[39m_mode\n\u001b[1;32m--> 217\u001b[0m file \u001b[38;5;241m=\u001b[39m \u001b[38;5;28;43mself\u001b[39;49m\u001b[38;5;241;43m.\u001b[39;49m\u001b[43m_opener\u001b[49m\u001b[43m(\u001b[49m\u001b[38;5;241;43m*\u001b[39;49m\u001b[38;5;28;43mself\u001b[39;49m\u001b[38;5;241;43m.\u001b[39;49m\u001b[43m_args\u001b[49m\u001b[43m,\u001b[49m\u001b[43m \u001b[49m\u001b[38;5;241;43m*\u001b[39;49m\u001b[38;5;241;43m*\u001b[39;49m\u001b[43mkwargs\u001b[49m\u001b[43m)\u001b[49m\n\u001b[0;32m    218\u001b[0m \u001b[38;5;28;01mif\u001b[39;00m \u001b[38;5;28mself\u001b[39m\u001b[38;5;241m.\u001b[39m_mode \u001b[38;5;241m==\u001b[39m \u001b[38;5;124m\"\u001b[39m\u001b[38;5;124mw\u001b[39m\u001b[38;5;124m\"\u001b[39m:\n\u001b[0;32m    219\u001b[0m     \u001b[38;5;66;03m# ensure file doesn't get overridden when opened again\u001b[39;00m\n",
      "File \u001b[1;32msrc\\\\netCDF4\\\\_netCDF4.pyx:2470\u001b[0m, in \u001b[0;36mnetCDF4._netCDF4.Dataset.__init__\u001b[1;34m()\u001b[0m\n",
      "File \u001b[1;32msrc\\\\netCDF4\\\\_netCDF4.pyx:2107\u001b[0m, in \u001b[0;36mnetCDF4._netCDF4._ensure_nc_success\u001b[1;34m()\u001b[0m\n",
      "\u001b[1;31mPermissionError\u001b[0m: [Errno 13] Permission denied: 'C:\\\\Users\\\\rirun2565\\\\CTD-classic\\\\iC3_field_school_2024\\\\netcdf\\\\iC3-24-3-BP_unprocessed.nc'",
      "\nDuring handling of the above exception, another exception occurred:\n",
      "\u001b[1;31mPermissionError\u001b[0m                           Traceback (most recent call last)",
      "Cell \u001b[1;32mIn[130], line 5\u001b[0m\n\u001b[0;32m      2\u001b[0m ds_ctd\u001b[38;5;241m.\u001b[39mattrs[\u001b[38;5;124m'\u001b[39m\u001b[38;5;124mid\u001b[39m\u001b[38;5;124m'\u001b[39m] \u001b[38;5;241m=\u001b[39m cruise_ctd_id\n\u001b[0;32m      4\u001b[0m nc_initial_dir \u001b[38;5;241m=\u001b[39m \u001b[38;5;124m'\u001b[39m\u001b[38;5;124m../../../../netcdf\u001b[39m\u001b[38;5;124m'\u001b[39m\n\u001b[1;32m----> 5\u001b[0m \u001b[43mctd\u001b[49m\u001b[38;5;241;43m.\u001b[39;49m\u001b[43mto_netcdf\u001b[49m\u001b[43m(\u001b[49m\u001b[43mds_ctd\u001b[49m\u001b[43m,\u001b[49m\u001b[43m \u001b[49m\u001b[43mnc_initial_dir\u001b[49m\u001b[43m,\u001b[49m\u001b[43m \u001b[49m\u001b[43mfile_name\u001b[49m\u001b[43m \u001b[49m\u001b[38;5;241;43m=\u001b[39;49m\u001b[43m \u001b[49m\u001b[38;5;124;43mf\u001b[39;49m\u001b[38;5;124;43m'\u001b[39;49m\u001b[38;5;132;43;01m{\u001b[39;49;00m\u001b[43mcruise_ctd_id\u001b[49m\u001b[38;5;132;43;01m}\u001b[39;49;00m\u001b[38;5;124;43m_unprocessed\u001b[39;49m\u001b[38;5;124;43m'\u001b[39;49m\u001b[43m)\u001b[49m\n",
      "File \u001b[1;32m~\\AppData\\Local\\miniforge3\\envs\\kval_ctd\\Lib\\site-packages\\kval\\data\\dataset.py:150\u001b[0m, in \u001b[0;36mto_netcdf\u001b[1;34m(D, path, file_name, convention_check, add_to_history, verbose)\u001b[0m\n\u001b[0;32m    148\u001b[0m user_input \u001b[38;5;241m=\u001b[39m \u001b[38;5;28minput\u001b[39m(\u001b[38;5;124mf\u001b[39m\u001b[38;5;124m\"\u001b[39m\u001b[38;5;124mThe file \u001b[39m\u001b[38;5;132;01m{\u001b[39;00mfile_path\u001b[38;5;132;01m}\u001b[39;00m\u001b[38;5;124m already exists. Do you want to overwrite it? (y/n): \u001b[39m\u001b[38;5;124m\"\u001b[39m)\n\u001b[0;32m    149\u001b[0m \u001b[38;5;28;01mif\u001b[39;00m user_input\u001b[38;5;241m.\u001b[39mlower() \u001b[38;5;129;01min\u001b[39;00m [\u001b[38;5;124m'\u001b[39m\u001b[38;5;124myes\u001b[39m\u001b[38;5;124m'\u001b[39m, \u001b[38;5;124m'\u001b[39m\u001b[38;5;124my\u001b[39m\u001b[38;5;124m'\u001b[39m]:\n\u001b[1;32m--> 150\u001b[0m     \u001b[43mos\u001b[49m\u001b[38;5;241;43m.\u001b[39;49m\u001b[43mremove\u001b[49m\u001b[43m(\u001b[49m\u001b[43mfile_path\u001b[49m\u001b[43m)\u001b[49m\n\u001b[0;32m    151\u001b[0m     D\u001b[38;5;241m.\u001b[39mto_netcdf(file_path)\n\u001b[0;32m    152\u001b[0m     \u001b[38;5;28mprint\u001b[39m(\u001b[38;5;124mf\u001b[39m\u001b[38;5;124m\"\u001b[39m\u001b[38;5;124mFile \u001b[39m\u001b[38;5;132;01m{\u001b[39;00mfile_path\u001b[38;5;132;01m}\u001b[39;00m\u001b[38;5;124m overwritten.\u001b[39m\u001b[38;5;124m\"\u001b[39m)\n",
      "\u001b[1;31mPermissionError\u001b[0m: [WinError 32] The process cannot access the file because it is being used by another process: '..\\\\..\\\\..\\\\..\\\\netcdf\\\\iC3-24-3-BP_unprocessed.nc'"
     ]
    }
   ],
   "source": [
    "cruise_ctd_id = 'iC3-24-3-BP'\n",
    "ds_ctd.attrs['id'] = cruise_ctd_id\n",
    "\n",
    "nc_initial_dir = '../../../../netcdf'\n",
    "ctd.to_netcdf(ds_ctd, nc_initial_dir, file_name = f'{cruise_ctd_id}_unprocessed')\n",
    "\n",
    "#keeps bringing up error for me about being used by another process, unsure why"
   ]
  },
  {
   "cell_type": "markdown",
   "id": "a9ac6ad1-b388-469f-b2c2-70dc08a376e3",
   "metadata": {},
   "source": [
    "### Check the NetCDF\n",
    "Load the nc file we just created and inspect it."
   ]
  },
  {
   "cell_type": "code",
   "execution_count": 131,
   "id": "fed8d8a3-3280-4f0d-846e-8a36c94888b2",
   "metadata": {},
   "outputs": [
    {
     "ename": "ValueError",
     "evalue": "did not find a match in any of xarray's currently installed IO backends ['netcdf4', 'scipy']. Consider explicitly selecting one of the installed engines via the ``engine`` parameter, or installing additional IO dependencies, see:\nhttps://docs.xarray.dev/en/stable/getting-started-guide/installing.html\nhttps://docs.xarray.dev/en/stable/user-guide/io.html",
     "output_type": "error",
     "traceback": [
      "\u001b[1;31m---------------------------------------------------------------------------\u001b[0m",
      "\u001b[1;31mValueError\u001b[0m                                Traceback (most recent call last)",
      "Cell \u001b[1;32mIn[131], line 1\u001b[0m\n\u001b[1;32m----> 1\u001b[0m ds_load \u001b[38;5;241m=\u001b[39m \u001b[43mctd\u001b[49m\u001b[38;5;241;43m.\u001b[39;49m\u001b[43mfrom_netcdf\u001b[49m\u001b[43m(\u001b[49m\u001b[38;5;124;43m'\u001b[39;49m\u001b[38;5;124;43m../../../../netcdf/\u001b[39;49m\u001b[38;5;124;43m'\u001b[39;49m\u001b[43m \u001b[49m\u001b[38;5;241;43m+\u001b[39;49m\u001b[43m \u001b[49m\u001b[38;5;124;43mf\u001b[39;49m\u001b[38;5;124;43m'\u001b[39;49m\u001b[38;5;132;43;01m{\u001b[39;49;00m\u001b[43mcruise_ctd_id\u001b[49m\u001b[38;5;132;43;01m}\u001b[39;49;00m\u001b[38;5;124;43m_unprocessed.nc\u001b[39;49m\u001b[38;5;124;43m'\u001b[39;49m\u001b[43m)\u001b[49m\n",
      "File \u001b[1;32m~\\AppData\\Local\\miniforge3\\envs\\kval_ctd\\Lib\\site-packages\\kval\\data\\ctd.py:288\u001b[0m, in \u001b[0;36mfrom_netcdf\u001b[1;34m(path_to_file)\u001b[0m\n\u001b[0;32m    282\u001b[0m \u001b[38;5;28;01mdef\u001b[39;00m \u001b[38;5;21mfrom_netcdf\u001b[39m(path_to_file):\n\u001b[0;32m    283\u001b[0m \u001b[38;5;250m    \u001b[39m\u001b[38;5;124;03m'''\u001b[39;00m\n\u001b[0;32m    284\u001b[0m \u001b[38;5;124;03m    Import a netCDF file - e.g. one previously generated\u001b[39;00m\n\u001b[0;32m    285\u001b[0m \u001b[38;5;124;03m    with these tools.\u001b[39;00m\n\u001b[0;32m    286\u001b[0m \u001b[38;5;124;03m    '''\u001b[39;00m\n\u001b[1;32m--> 288\u001b[0m     d \u001b[38;5;241m=\u001b[39m \u001b[43mxr\u001b[49m\u001b[38;5;241;43m.\u001b[39;49m\u001b[43mopen_dataset\u001b[49m\u001b[43m(\u001b[49m\u001b[43mpath_to_file\u001b[49m\u001b[43m,\u001b[49m\u001b[43m \u001b[49m\u001b[43mdecode_cf\u001b[49m\u001b[43m \u001b[49m\u001b[38;5;241;43m=\u001b[39;49m\u001b[43m \u001b[49m\u001b[38;5;28;43;01mFalse\u001b[39;49;00m\u001b[43m)\u001b[49m\n\u001b[0;32m    290\u001b[0m     \u001b[38;5;28;01mreturn\u001b[39;00m d\n",
      "File \u001b[1;32m~\\AppData\\Local\\miniforge3\\envs\\kval_ctd\\Lib\\site-packages\\xarray\\backends\\api.py:592\u001b[0m, in \u001b[0;36mopen_dataset\u001b[1;34m(filename_or_obj, engine, chunks, cache, decode_cf, mask_and_scale, decode_times, decode_timedelta, use_cftime, concat_characters, decode_coords, drop_variables, inline_array, chunked_array_type, from_array_kwargs, backend_kwargs, **kwargs)\u001b[0m\n\u001b[0;32m    589\u001b[0m     kwargs\u001b[38;5;241m.\u001b[39mupdate(backend_kwargs)\n\u001b[0;32m    591\u001b[0m \u001b[38;5;28;01mif\u001b[39;00m engine \u001b[38;5;129;01mis\u001b[39;00m \u001b[38;5;28;01mNone\u001b[39;00m:\n\u001b[1;32m--> 592\u001b[0m     engine \u001b[38;5;241m=\u001b[39m \u001b[43mplugins\u001b[49m\u001b[38;5;241;43m.\u001b[39;49m\u001b[43mguess_engine\u001b[49m\u001b[43m(\u001b[49m\u001b[43mfilename_or_obj\u001b[49m\u001b[43m)\u001b[49m\n\u001b[0;32m    594\u001b[0m \u001b[38;5;28;01mif\u001b[39;00m from_array_kwargs \u001b[38;5;129;01mis\u001b[39;00m \u001b[38;5;28;01mNone\u001b[39;00m:\n\u001b[0;32m    595\u001b[0m     from_array_kwargs \u001b[38;5;241m=\u001b[39m {}\n",
      "File \u001b[1;32m~\\AppData\\Local\\miniforge3\\envs\\kval_ctd\\Lib\\site-packages\\xarray\\backends\\plugins.py:187\u001b[0m, in \u001b[0;36mguess_engine\u001b[1;34m(store_spec)\u001b[0m\n\u001b[0;32m    179\u001b[0m \u001b[38;5;28;01melse\u001b[39;00m:\n\u001b[0;32m    180\u001b[0m     error_msg \u001b[38;5;241m=\u001b[39m (\n\u001b[0;32m    181\u001b[0m         \u001b[38;5;124m\"\u001b[39m\u001b[38;5;124mfound the following matches with the input file in xarray\u001b[39m\u001b[38;5;124m'\u001b[39m\u001b[38;5;124ms IO \u001b[39m\u001b[38;5;124m\"\u001b[39m\n\u001b[0;32m    182\u001b[0m         \u001b[38;5;124mf\u001b[39m\u001b[38;5;124m\"\u001b[39m\u001b[38;5;124mbackends: \u001b[39m\u001b[38;5;132;01m{\u001b[39;00mcompatible_engines\u001b[38;5;132;01m}\u001b[39;00m\u001b[38;5;124m. But their dependencies may not be installed, see:\u001b[39m\u001b[38;5;130;01m\\n\u001b[39;00m\u001b[38;5;124m\"\u001b[39m\n\u001b[0;32m    183\u001b[0m         \u001b[38;5;124m\"\u001b[39m\u001b[38;5;124mhttps://docs.xarray.dev/en/stable/user-guide/io.html \u001b[39m\u001b[38;5;130;01m\\n\u001b[39;00m\u001b[38;5;124m\"\u001b[39m\n\u001b[0;32m    184\u001b[0m         \u001b[38;5;124m\"\u001b[39m\u001b[38;5;124mhttps://docs.xarray.dev/en/stable/getting-started-guide/installing.html\u001b[39m\u001b[38;5;124m\"\u001b[39m\n\u001b[0;32m    185\u001b[0m     )\n\u001b[1;32m--> 187\u001b[0m \u001b[38;5;28;01mraise\u001b[39;00m \u001b[38;5;167;01mValueError\u001b[39;00m(error_msg)\n",
      "\u001b[1;31mValueError\u001b[0m: did not find a match in any of xarray's currently installed IO backends ['netcdf4', 'scipy']. Consider explicitly selecting one of the installed engines via the ``engine`` parameter, or installing additional IO dependencies, see:\nhttps://docs.xarray.dev/en/stable/getting-started-guide/installing.html\nhttps://docs.xarray.dev/en/stable/user-guide/io.html"
     ]
    }
   ],
   "source": [
    "ds_load = ctd.from_netcdf('../../../../netcdf/' + f'{cruise_ctd_id}_unprocessed.nc')"
   ]
  },
  {
   "cell_type": "code",
   "execution_count": 132,
   "id": "f769b699-089a-4501-97a1-58b4b4a8483e",
   "metadata": {},
   "outputs": [
    {
     "name": "stdout",
     "output_type": "stream",
     "text": [
      "Dropped these variables from the Dataset: PROCESSING.\n",
      "Saved the (simplified) Dataset to: ../../../../mat/ctd_data_unprocessed.mat\n"
     ]
    }
   ],
   "source": [
    "mat_dir = '../../../../mat/'\n",
    "ctd.to_mat(ds_ctd, mat_dir + 'ctd_data_unprocessed', simplify = True)"
   ]
  },
  {
   "cell_type": "markdown",
   "id": "1f355314-6a1f-4bf0-9ceb-df052885ece8",
   "metadata": {},
   "source": [
    "## Compute Bottle averages\n",
    "\n",
    "Somewhere should also be a block of code to extract bottle averages\n",
    "\n",
    "Probably, it also makes sense to fill in upper part of profile 10 with data from profile 9, as these are taken at the same location shortly after each other. -> filled up within data"
   ]
  },
  {
   "cell_type": "markdown",
   "id": "a3fed400-5f0d-4e27-8445-6ed0d5226841",
   "metadata": {},
   "source": [
    "##### Bottle averages for CTD\n",
    "bottle depth +-2m\n"
   ]
  },
  {
   "cell_type": "code",
   "execution_count": 20,
   "id": "290e6e5b-6c93-43f9-bd84-16bce444962d",
   "metadata": {},
   "outputs": [
    {
     "name": "stdout",
     "output_type": "stream",
     "text": [
      "     decimalLatitude  decimalLongitude  bottomDepthInMeters      locationID  \\\n",
      "0           70.00800         20.408300                353.0     72 (LYNG04)   \n",
      "1           70.00800         20.408300                353.0     72 (LYNG04)   \n",
      "2           70.00800         20.408300                353.0     72 (LYNG04)   \n",
      "3           70.00800         20.408300                353.0     72 (LYNG04)   \n",
      "4           70.00800         20.408300                353.0     72 (LYNG04)   \n",
      "..               ...               ...                  ...             ...   \n",
      "310         69.44625         20.256633                130.0  133 (LYNG-iC3)   \n",
      "311         69.44625         20.256633                130.0  133 (LYNG-iC3)   \n",
      "312         69.44625         20.256633                130.0  133 (LYNG-iC3)   \n",
      "313         69.44625         20.256633                130.0  133 (LYNG-iC3)   \n",
      "314         69.44625         20.256633                130.0  133 (LYNG-iC3)   \n",
      "\n",
      "          gearType  niskinNumber  maximumDepthInMeters     sampleType STATION  \n",
      "0    Niskin bottle           1.0                 343.0      Nutrients      72  \n",
      "1    Niskin bottle           2.0                  50.0      Nutrients      72  \n",
      "2    Niskin bottle           3.0                  20.0      Nutrients      72  \n",
      "3    Niskin bottle           5.0                   2.0      Nutrients      72  \n",
      "4    Niskin bottle           1.0                 343.0     δ18 Oxygen      72  \n",
      "..             ...           ...                   ...            ...     ...  \n",
      "310  Niskin bottle           4.0                  10.0       Pigments     133  \n",
      "311  Niskin bottle           5.0                   2.0       Pigments     133  \n",
      "312  Niskin bottle           5.0                   2.0       Pigments     133  \n",
      "313  Niskin bottle           5.0                   2.0       Pigments     133  \n",
      "314  Handnet 20 μm           NaN                  25.0  Handnet 20 µm     133  \n",
      "\n",
      "[315 rows x 9 columns]\n"
     ]
    }
   ],
   "source": [
    "# Check logsheets for bottle depths\n",
    "\n",
    "print(df_log)"
   ]
  },
  {
   "cell_type": "code",
   "execution_count": 21,
   "id": "cdb68b16-0486-487e-9295-8d9af47c04bd",
   "metadata": {
    "scrolled": true
   },
   "outputs": [
    {
     "name": "stdout",
     "output_type": "stream",
     "text": [
      "<xarray.Dataset> Size: 252kB\n",
      "Dimensions:      (STATION: 12, PRES: 323)\n",
      "Coordinates:\n",
      "  * STATION      (STATION) <U10 480B '60' '72' '74' '83' ... '127' '132' '133'\n",
      "  * PRES         (PRES) float64 3kB 2.0 3.0 4.0 5.0 ... 322.0 323.0 324.0 325.0\n",
      "    TIME         (STATION) float64 96B 1.984e+04 1.998e+04 ... 1.998e+04\n",
      "    dim_0        (STATION) float64 96B nan 0.0 29.0 66.0 ... 242.0 nan 279.0\n",
      "Data variables:\n",
      "    TEMP1        (STATION, PRES) float64 31kB nan nan nan 5.123 ... nan nan nan\n",
      "    CNDC1        (STATION, PRES) float64 31kB nan nan nan 3.106 ... nan nan nan\n",
      "    flSP         (STATION, PRES) float64 31kB nan nan nan 0.4117 ... nan nan nan\n",
      "    PSAL1        (STATION, PRES) float64 31kB nan nan nan nan ... nan nan nan\n",
      "    gsw_saA0     (STATION, PRES) float64 31kB nan nan nan nan ... nan nan nan\n",
      "    gsw_ctA0     (STATION, PRES) float64 31kB nan nan nan nan ... nan nan nan\n",
      "    SBE_FLAG     (STATION, PRES) float64 31kB nan nan nan 0.0 ... nan nan nan\n",
      "    TIME_SAMPLE  (STATION, PRES) float64 31kB nan nan nan ... nan nan nan\n",
      "    LATITUDE     (STATION) float64 96B nan 70.01 69.36 69.49 ... 69.44 nan 69.45\n",
      "    LONGITUDE    (STATION) float64 96B nan 20.41 20.06 20.31 ... 20.23 nan 20.26\n",
      "    CRUISE       <U27 108B '!! CRUISE (Not assigned) !!'\n",
      "    PROCESSING   object 8B None\n",
      "Attributes:\n",
      "    binned:        1 decibars (SBE software)\n",
      "    history:       2024-04-24 to 2024-09-13: Data collection.\\n2024-09-11 to ...\n",
      "    ship:          BP\n",
      "    source_files:  E.g. STNR0072.HEX, BERET.XMLCON -> PROC\\STNR0072_BIN.CNV\n",
      "    featureType:   profile\n"
     ]
    }
   ],
   "source": [
    "# Check CTD data to use for this processing and that STATION is used as a dimension\n",
    "\n",
    "print(ds_ctd_calc)"
   ]
  },
  {
   "cell_type": "code",
   "execution_count": 26,
   "id": "7066b739-cbe0-4e18-b760-84da3248b27a",
   "metadata": {},
   "outputs": [
    {
     "name": "stdout",
     "output_type": "stream",
     "text": [
      "Averages DataFrame saved to 'Bottle_averages_CTD.xlsx'.\n"
     ]
    }
   ],
   "source": [
    "# Calculate sensor averages (+- 2m) at Bottle depths\n",
    "\n",
    "# Filter out rows where STATION is nan from logsheet to enable calculation with this value\n",
    "df_log_filtered = df_log.dropna(subset=['STATION'])\n",
    "\n",
    "# Initialize an empty list to store the results\n",
    "bottles_CTD = []\n",
    "\n",
    "# List of variables to calculate bottle averages for\n",
    "variables_to_average = ds_ctd_calc.data_vars.keys()\n",
    "\n",
    "# Extract values for STATION and bottle depths from logsheet for aligning them with CTD data\n",
    "for _, row in df_log_filtered.iterrows():\n",
    "    station_to_check = row['STATION']\n",
    "    bottle_depths_meters = row['maximumDepthInMeters']\n",
    "\n",
    "    # Filter the dataset for the specified station\n",
    "    try:\n",
    "        filtered = ds_ctd_calc.sel(STATION=station_to_check)\n",
    "    except KeyError:\n",
    "        print(f\"STATION '{station_to_check}' not found in dataset.\")\n",
    "        continue\n",
    "\n",
    "    # Create boolean condition for +-2 pressure window at bottle depths\n",
    "    pressure_condition = (\n",
    "        (filtered['PRES'] >= bottle_depths_meters - 2) &\n",
    "        (filtered['PRES'] <= bottle_depths_meters + 2)\n",
    "    )\n",
    "\n",
    "    # Initialize a dictionary to store averages for each variable\n",
    "    averages = {'STATION': station_to_check, 'maximumDepthInMeters': bottle_depths_meters}\n",
    "\n",
    "    # Loop through each variable in the dataset\n",
    "    for var in variables_to_average:\n",
    "        # Check if the variable has the PRES dimension\n",
    "        if 'PRES' in filtered[var].dims:\n",
    "            # Apply the pressure condition to get valid values\n",
    "            valid_values = filtered[var].where(pressure_condition, drop=True)\n",
    "\n",
    "            # Calculate bottle average only if there are valid values\n",
    "            if valid_values.size > 0:\n",
    "                average_value = valid_values.mean().item()  # Convert to a scalar\n",
    "                averages[var] = average_value\n",
    "            else:\n",
    "                averages[var] = None  # or np.nan, depending on your preference\n",
    "        else:\n",
    "            averages[var] = None  # Handle the case where the variable doesn't have PRES\n",
    "\n",
    "    # Append the bottle averages dictionary to the results list\n",
    "    bottles_CTD.append(averages)\n",
    "\n",
    "# Convert the results list to a DataFrame\n",
    "averages_CTD_df = pd.DataFrame(bottles_CTD)\n",
    "\n",
    "# Remove duplicate rows\n",
    "averages_CTD_df = averages_CTD_df.drop_duplicates()\n",
    "\n",
    "# Save the resulting DataFrame to an Excel file\n",
    "output_file_path = \"Bottle_averages_CTD.xlsx\"\n",
    "averages_CTD_df.to_excel(output_file_path, index=False)\n",
    "\n",
    "print(f\"Averages DataFrame saved to '{output_file_path}'.\")"
   ]
  },
  {
   "cell_type": "code",
   "execution_count": 28,
   "id": "42795515-7202-4303-9894-2ea3f419784a",
   "metadata": {},
   "outputs": [],
   "source": [
    "# Plot profiles for certain variables at the different stations\n",
    "#problem with adjusting x-axis range to be dynamic between varaibale and show all values within the plot well\n",
    "\n",
    "# Load the CTD averages DataFrame\n",
    "averages_df = pd.read_excel(\"Bottle_averages_CTD.xlsx\")\n",
    "\n",
    "# List of variables to plot\n",
    "variables_to_plot = ['TEMP1', 'CNDC1', 'flSP', 'PSAL1', 'gsw_saA0', 'gsw_ctA0']\n",
    "\n",
    "# Create a figure with subplots for each variable\n",
    "num_vars = len(variables_to_plot)\n",
    "fig, axs = plt.subplots(num_vars, 1, figsize=(10, 5 * num_vars), sharex=False)\n",
    "\n",
    "# Create profiles for each variable\n",
    "for i, var in enumerate(variables_to_plot):\n",
    "    for station in averages_CTD_df['STATION'].unique():\n",
    "        station_data_CTD = averages_CTD_df[averages_CTD_df['STATION'] == station]\n",
    "\n",
    "        # Sort data by maximumDepthInMeters for proper plotting\n",
    "        station_data_CTD = station_data_CTD.sort_values(by='maximumDepthInMeters')\n",
    "\n",
    "        # Plot each station's data for the current variable\n",
    "        if var in station_data_CTD.columns:\n",
    "            # Connect the station values with lines and add dots\n",
    "            axs[i].plot(station_data_CTD[var], station_data_CTD['maximumDepthInMeters'], \n",
    "                        marker='o', label=f'STATION {station}', linestyle='-')\n",
    "\n",
    "    axs[i].invert_yaxis()  # Invert y-axis to have depth increasing downwards\n",
    "    axs[i].set_title(f'Profile for {var}')\n",
    "    axs[i].set_ylabel('Depth (m)')\n",
    "    axs[i].grid()\n",
    "\n",
    "    # Set fixed y-axis limits (depth)\n",
    "    axs[i].set_ylim(130, 0)  \n",
    "    \n",
    "    # Set x-axis limits based on the current variable with a fixed ±1 buffer\n",
    "    if var in station_data_CTD.columns:\n",
    "        min_val = station_data_CTD[var].min()\n",
    "        max_val = station_data_CTD[var].max()\n",
    "        axs[i].set_xlim(min_val - 1, max_val + 1)  # Better ideas for buffer?\n",
    "\n",
    "    axs[i].legend(title='Station', loc='best', fontsize='small')\n",
    "\n",
    "plt.xlabel('Value')\n",
    "plt.tight_layout()\n",
    "\n",
    "# Save the plot\n",
    "plt_file_path = '../../../../plots/profile_CTD_bottleav_{station}.png'\n",
    "plt.savefig(plt_file_path)\n",
    "plt.close()"
   ]
  },
  {
   "cell_type": "code",
   "execution_count": 50,
   "id": "c9a8f92a-57ba-441f-9d12-14d82e051d0d",
   "metadata": {},
   "outputs": [],
   "source": [
    "# Plot profiles for certain variables at the different stations\n",
    "#problem with adjusting x-axis range to be dynamic between varaibale and show all values within the plot well\n",
    "\n",
    "# Load the CTD averages DataFrame\n",
    "averages_df = pd.read_excel(\"Bottle_averages_CTD.xlsx\")\n",
    "\n",
    "# List of variables to plot\n",
    "variables_to_plot = ['TEMP1', 'CNDC1', 'flSP', 'PSAL1', 'gsw_saA0', 'gsw_ctA0']\n",
    "\n",
    "# Create a figure with subplots for each variable\n",
    "num_vars = len(variables_to_plot)\n",
    "fig, axs = plt.subplots(num_vars, 1, figsize=(10, 5 * num_vars), sharex=False)\n",
    "\n",
    "# Create profiles for each variable\n",
    "for i, var in enumerate(variables_to_plot):\n",
    "    for station in averages_CTD_df['STATION'].unique():\n",
    "        station_data_CTD = averages_CTD_df[averages_CTD_df['STATION'] == station]\n",
    "\n",
    "        # Sort data by maximumDepthInMeters for proper plotting\n",
    "        station_data_CTD = station_data_CTD.sort_values(by='maximumDepthInMeters')\n",
    "\n",
    "        # Plot each station's data for the current variable\n",
    "        if var in station_data_CTD.columns:\n",
    "            # Connect the station values with lines and add dots\n",
    "            axs[i].plot(station_data_CTD[var], station_data_CTD['maximumDepthInMeters'], \n",
    "                        marker='o', label=f'STATION {station}', linestyle='-')\n",
    "\n",
    "    axs[i].invert_yaxis()  # Invert y-axis to have depth increasing downwards\n",
    "    axs[i].set_title(f'Profile for {var}')\n",
    "    axs[i].set_ylabel('Depth (m)')\n",
    "    axs[i].grid()\n",
    "\n",
    "    # Set fixed y-axis limits (depth)\n",
    "    axs[i].set_ylim(130, 0)  \n",
    "    \n",
    "    # Set x-axis limits based on the current variable with a fixed ±1 buffer\n",
    "    if var in station_data.columns:\n",
    "        min_val = station_data[var].min()\n",
    "        max_val = station_data[var].max()\n",
    "        axs[i].set_xlim(min_val - 1, max_val + 1)  # Better ideas for buffer?\n",
    "\n",
    "    axs[i].legend(title='Station', loc='best', fontsize='small')\n",
    "\n",
    "plt.xlabel('Value')\n",
    "plt.tight_layout()\n",
    "\n",
    "# Save the plot\n",
    "plt_file_path = '../../../../plots/profile_CTD_bottleav.png'\n",
    "plt.savefig(plt_file_path)\n",
    "plt.close()\n"
   ]
  },
  {
   "cell_type": "markdown",
   "id": "a88b7c1a-d692-43be-b437-d1da3324bccf",
   "metadata": {},
   "source": [
    "##### Bottle averages for RBR\n",
    "bottle depth +-2m\n"
   ]
  },
  {
   "cell_type": "code",
   "execution_count": 30,
   "id": "d76233ef-9d63-491c-b748-70d11a6b3bd3",
   "metadata": {},
   "outputs": [],
   "source": [
    "#basically same procedure as for CTD profiles, just slight variations due to differences in type of dataframe\n",
    "#goal = bring both into similar format to be able to combine both\n",
    "\n",
    "# Create an empty list to hold the results\n",
    "average_list = []\n",
    "\n",
    "# Extract values for STATION and bottle depths from logsheet for aligning them with RBR data\n",
    "for index, row in df_log.iterrows():\n",
    "    station_id = row['STATION']\n",
    "    maximum_depth = row['maximumDepthInMeters']\n",
    "\n",
    "    # Construct the profile name use only the the profiles from dragging sensor up, to exclude long stoptime influences\n",
    "    profile_name = f\"{station_id}_UP\"\n",
    "\n",
    "    # Check if the profile exists in binned_profiles\n",
    "    if profile_name in binned_profiles:\n",
    "        binned_df = binned_profiles[profile_name]\n",
    "\n",
    "        # Convert Pressure_Binned to numeric if it's categorical\n",
    "        if isinstance(binned_df['Pressure_Binned'].dtype, pd.CategoricalDtype):\n",
    "            binned_df['Pressure_Binned'] = binned_df['Pressure_Binned'].cat.codes\n",
    "\n",
    "        # Define the +-2 average pressure bounds for filtering\n",
    "        lower_bound = maximum_depth - 2\n",
    "        upper_bound = maximum_depth + 2\n",
    "\n",
    "        # Filter the binned DataFrame for the relevant Pressure_Binned values\n",
    "        filtered_data = binned_df[\n",
    "            (binned_df['Pressure_Binned'] >= lower_bound) &\n",
    "            (binned_df['Pressure_Binned'] <= upper_bound)\n",
    "        ]\n",
    "\n",
    "        # Calculate the mean of the other varaibles and add to the results list\n",
    "        if not filtered_data.empty:\n",
    "            # Create a dictionary to store RBR bottle averages, keeping STATION and bottle depth as identifiers\n",
    "            averages_dict = {\n",
    "                'STATION': station_id,\n",
    "                'maximumDepthInMeters': maximum_depth,\n",
    "            }\n",
    "            averages_dict.update(filtered_data.mean(numeric_only=True).to_dict())\n",
    "            average_list.append(averages_dict)\n",
    "\n",
    "# Convert the list of dictionaries to a DataFrame\n",
    "average_RBR = pd.DataFrame(average_list)\n",
    "\n",
    "# Remove duplicates based on same results STATION and maximumDepthInMeters\n",
    "average_RBR = average_RBR.drop_duplicates(subset=['STATION', 'maximumDepthInMeters'])\n",
    "\n",
    "# Save the DataFrame\n",
    "average_RBR.to_excel('Bottle_averages_RBR.xlsx', index=False)"
   ]
  },
  {
   "cell_type": "code",
   "execution_count": 31,
   "id": "735c8bcc-c10b-4a76-9780-cbc8f82e5e62",
   "metadata": {},
   "outputs": [
    {
     "name": "stdout",
     "output_type": "stream",
     "text": [
      "    STATION  maximumDepthInMeters  Pressure_Binned  Conductivity  Temperature  \\\n",
      "0        74                  54.0             54.0     38.285100    12.209171   \n",
      "1        74                  40.0             40.0     38.404284    12.368411   \n",
      "2        74                  20.0             20.0     38.440056    12.452312   \n",
      "3        74                  10.0             10.0     38.346396    12.541034   \n",
      "4        74                   2.0              2.0     38.173487    12.543119   \n",
      "35       74                  25.0             25.0     38.428378    12.424687   \n",
      "36       83                  50.0             50.0     38.311167    12.107267   \n",
      "37       83                  20.0             20.0     38.449451    12.718980   \n",
      "38       83                  10.0             10.0     38.418566    12.711901   \n",
      "39       83                   2.0              2.0     38.427456    12.728406   \n",
      "68       83                  25.0             25.0     38.457402    12.721403   \n",
      "69       95                  38.0             37.5     38.335578    12.162716   \n",
      "70       95                  20.0             20.0     38.502181    12.469362   \n",
      "71       95                  10.0             10.0     38.561164    12.564484   \n",
      "72       95                   2.0              2.0     38.387563    12.538218   \n",
      "101      95                  25.0             25.0     38.496998    12.427924   \n",
      "102     106                  38.0             37.5     38.273294    12.092901   \n",
      "103     106                  20.0             20.0     38.457216    12.387930   \n",
      "104     106                  10.0             10.0     38.454604    12.466515   \n",
      "105     106                   2.0              2.0     38.374230    12.573409   \n",
      "134     106                  25.0             25.0     38.389409    12.307616   \n",
      "135     113                  42.0             42.0     38.172421    11.973642   \n",
      "136     113                  20.0             20.0     38.446469    12.421283   \n",
      "137     113                  10.0             10.0     38.254179    12.520885   \n",
      "138     113                   2.0              2.0     37.893918    12.555805   \n",
      "167     113                  25.0             25.0     38.449933    12.403904   \n",
      "168     118                  58.0             58.0     38.214183    11.934360   \n",
      "169     118                  40.0             40.0     38.240411    11.983956   \n",
      "170     118                  20.0             20.0     38.342640    12.157817   \n",
      "171     118                  10.0             10.0     38.382887    12.288071   \n",
      "172     118                   2.0              2.0     37.643339    12.252286   \n",
      "203     118                  25.0             25.0     38.304102    12.078887   \n",
      "204     127                  88.0             88.0     36.995414    10.363339   \n",
      "205     127                  40.0             40.0     38.288376    12.060364   \n",
      "206     127                  20.0             20.0     38.371336    12.278111   \n",
      "207     127                  10.0             10.0     38.298199    12.282109   \n",
      "208     127                   2.0              2.0     38.274187    12.287927   \n",
      "239     127                  25.0             25.0     38.388359    12.271808   \n",
      "240     133                  40.0             40.0     38.351929    12.164098   \n",
      "241     133                  20.0             20.0     38.329709    12.324345   \n",
      "242     133                  10.0             10.0     38.255263    12.309514   \n",
      "243     133                   2.0              2.0     38.222148    12.336269   \n",
      "272     133                  25.0             25.0     38.422629    12.355836   \n",
      "\n",
      "      Pressure  Chlorophyll         PAR  Sea pressure      Depth   Salinity  \\\n",
      "0    64.944913     0.435527    0.136958     54.812413  54.365437  33.122625   \n",
      "1    51.424329     0.506306    0.625171     41.291829  40.955109  33.102158   \n",
      "2    31.507538     0.660298    5.083657     21.375038  21.200732  33.070760   \n",
      "3    21.520605     1.652388   16.243129     11.388105  11.295239  32.907333   \n",
      "4    13.575714     1.856074   70.021732      3.443214   3.415136  32.743556   \n",
      "35   36.487261     0.671623    3.012708     26.354761  26.139847  33.081839   \n",
      "36   60.571581     0.154147    0.232143     50.439081  50.027769  33.240054   \n",
      "37   30.415901     1.539997    9.107588     20.283401  20.117997  32.846606   \n",
      "38   20.613263     1.367778   46.288851     10.480763  10.395296  32.827383   \n",
      "39   12.577883     0.931251  308.642141      2.445383   2.425441  32.824757   \n",
      "68   35.542973     1.544100    4.440818     25.410473  25.203260  32.849966   \n",
      "69   47.584959     0.189352    1.465056     37.452459  37.147047  33.219766   \n",
      "70   30.511302     0.471086    6.777937     20.378802  20.212621  33.115686   \n",
      "71   20.477169     0.671749   15.245351     10.344669  10.260312  33.092517   \n",
      "72   12.517731     1.029780   61.299905      2.385231   2.365780  32.952869   \n",
      "101  35.504200     0.301343    4.653710     25.371700  25.164803  33.145228   \n",
      "102  47.582919     0.177129    0.560670     37.450419  37.145025  33.221668   \n",
      "103  30.528161     0.321342    3.977054     20.395661  20.229341  33.144425   \n",
      "104  20.528596     0.717373   15.746525     10.396096  10.311320  33.076767   \n",
      "105  12.487539     1.148709   65.789324      2.355039   2.335834  32.909319   \n",
      "134  35.569601     0.336459    2.232285     25.437101  25.229670  33.148175   \n",
      "135  51.931084     0.176430    0.740314     41.798584  41.457731  33.228359   \n",
      "136  30.481203     0.429517    9.650770     20.348703  20.182767  33.104684   \n",
      "137  20.474744     1.690259   29.722132     10.342244  10.257907  32.837225   \n",
      "138  12.516829     0.952597  202.049687      2.384329   2.364886  32.466112   \n",
      "167  35.532706     0.342029    5.668472     25.400206  25.193077  33.121251   \n",
      "168  67.956383     0.125262    0.193815     57.823883  57.352350  33.297198   \n",
      "169  50.514557     0.131541    1.161550     40.382057  40.052756  33.285687   \n",
      "170  30.504218     0.200893    5.975430     20.371718  20.205594  33.238096   \n",
      "171  20.523356     0.328411    8.811944     10.390856  10.306122  33.165473   \n",
      "172  12.496302     0.706209   47.406075      2.363802   2.344526  32.488958   \n",
      "203  35.514953     0.143901    4.360963     25.382453  25.175468  33.269011   \n",
      "204  98.536880     0.126615    0.041288     88.404380  87.683474  33.504132   \n",
      "205  50.430171     0.132020    2.245525     40.297671  39.969058  33.264036   \n",
      "206  30.490709     0.374530   11.583030     20.358209  20.192196  33.159013   \n",
      "207  20.520629     0.586775   24.849511     10.388129  10.303418  33.089230   \n",
      "208  12.525710     0.515990  158.601095      2.393210   2.373694  33.064310   \n",
      "239  35.543715     0.294253    6.290557     25.411215  25.203995  33.178882   \n",
      "240  50.433872     0.153771    2.453988     40.301372  39.972728  33.233131   \n",
      "241  30.409750     0.822313   21.993300     20.277250  20.111896  33.078118   \n",
      "242  20.380636     0.917366   60.946081     10.248136  10.164566  33.023792   \n",
      "243  12.642592     0.669183  321.095276      2.510092   2.489623  32.971611   \n",
      "272  35.412224     0.442922   12.514950     25.279724  25.073577  33.137536   \n",
      "\n",
      "     Speed of sound  Specific conductivity  Density anomaly  \n",
      "0       1496.202942           50658.360367        25.338108  \n",
      "1       1496.497978           50612.311953        25.231075  \n",
      "2       1496.416922           50552.666805        25.101188  \n",
      "3       1496.358468           50317.331257        24.912594  \n",
      "4       1496.039789           50087.822784        24.749581  \n",
      "35      1496.418528           50572.406645        25.137447  \n",
      "36      1495.922796           50823.762012        25.428923  \n",
      "37      1497.034324           50228.494135        24.871036  \n",
      "38      1496.825883           50197.015429        24.813527  \n",
      "39      1496.745799           50187.952083        24.772216  \n",
      "68      1497.131090           50235.842758        24.896174  \n",
      "69      1495.873935           50784.773177        25.344309  \n",
      "70      1496.511752           50612.681685        25.128257  \n",
      "71      1496.640733           50569.415214        25.046901  \n",
      "72      1496.254536           50374.905792        24.907993  \n",
      "101     1496.488613           50658.633134        25.181537  \n",
      "102     1495.637475           50792.020610        25.359017  \n",
      "103     1496.269898           50657.173101        25.166261  \n",
      "104     1496.291079           50553.801784        25.053806  \n",
      "105     1496.321368           50313.020174        24.867324  \n",
      "134     1496.084432           50670.272007        25.207188  \n",
      "135     1495.308481           50811.778053        25.406273  \n",
      "136     1496.335080           50600.545893        25.128840  \n",
      "137     1496.189622           50221.697221        24.857442  \n",
      "138     1495.735597           49705.187386        24.527390  \n",
      "167     1496.379100           50627.237797        25.167702  \n",
      "168     1495.520180           50918.232388        25.539133  \n",
      "169     1495.389034           50888.931647        25.442450  \n",
      "170     1495.597342           50800.430249        25.282696  \n",
      "171     1495.790338           50686.640844        25.156731  \n",
      "172     1494.729862           49754.930693        24.602765  \n",
      "203     1495.447007           50850.967248        25.344155  \n",
      "204     1490.769269           51347.720596        26.122142  \n",
      "205     1495.623646           50853.984413        25.410843  \n",
      "206     1495.913133           50684.119398        25.198410  \n",
      "207     1495.679138           50582.413683        25.098723  \n",
      "208     1495.537397           50543.278273        25.042351  \n",
      "239     1495.998690           50714.673379        25.237724  \n",
      "240     1495.941565           50804.660144        25.367211  \n",
      "241     1495.972807           50570.131105        25.126487  \n",
      "242     1495.692190           50490.790128        25.042123  \n",
      "243     1495.593473           50413.073919        24.961777  \n",
      "272     1496.233217           50652.522252        25.189008  \n"
     ]
    }
   ],
   "source": [
    "# View created dataframe to get an impressions if binning went smoothly\n",
    "print(average_RBR)"
   ]
  },
  {
   "cell_type": "code",
   "execution_count": 82,
   "id": "ca934e87-760c-4322-a1a6-4092b83c0539",
   "metadata": {},
   "outputs": [],
   "source": [
    "#Same as for CTD but different since different format of dataframes\n",
    "\n",
    "# Load the averages DataFrame\n",
    "averages_rbr = pd.read_excel(\"Bottle_averages_RBR.xlsx\")\n",
    "\n",
    "# List of RBR variables to plot\n",
    "variables_to_plot = ['Conductivity', 'Temperature', 'Pressure', 'Chlorophyll', \n",
    "                     'PAR', 'Sea pressure', 'Salinity', 'Density anomaly', 'Specific conductivity']\n",
    "\n",
    "# Create a figure with subplots for each variable\n",
    "num_vars = len(variables_to_plot)\n",
    "fig, axs = plt.subplots(num_vars, 1, figsize=(12, 5 * num_vars), sharex=False)\n",
    "\n",
    "# Define a color map for the different stations (to make t more fancy)\n",
    "colors = plt.cm.viridis(np.linspace(0, 1, averages_rbr['STATION'].nunique()))\n",
    "\n",
    "# Create profiles for each RBR variable\n",
    "for i, var in enumerate(variables_to_plot):\n",
    "    for j, station in enumerate(averages_rbr['STATION'].unique()):\n",
    "        station_data = averages_rbr[averages_rbr['STATION'] == station]\n",
    "\n",
    "        # Check if the variable is in the station data\n",
    "        if var in station_data.columns:\n",
    "            # Sort the data by maximumDepthInMeters\n",
    "            station_data = station_data.sort_values(by='maximumDepthInMeters')  \n",
    "            # Plot each station's data for the current variable\n",
    "            axs[i].plot(station_data[var], station_data['maximumDepthInMeters'], \n",
    "                         marker='o', label=f'STATION {station}', color=colors[j])\n",
    "\n",
    "    axs[i].invert_yaxis()  # Invert y-axis (since ocean profile)\n",
    "    axs[i].set_title(f'Profile for {var}', fontsize=14)\n",
    "    axs[i].set_ylabel('Depth (meters)', fontsize=12)\n",
    "    axs[i].grid(True, linestyle='--', alpha=0.7)\n",
    "\n",
    "    # Set x-axis limits individually for each variable plot\n",
    "    if not station_data.empty and var in station_data.columns:\n",
    "        x_min = station_data[var].min() - 1  # What buffer would be good?\n",
    "        x_max = station_data[var].max() + 1  \n",
    "        axs[i].set_xlim(x_min, x_max) \n",
    "\n",
    "    axs[i].legend(title='Station', loc='best', fontsize='small', frameon=True, shadow=True)\n",
    "\n",
    "# Set common xlabel\n",
    "plt.xlabel('Value', fontsize=12)\n",
    "plt.tight_layout()\n",
    "\n",
    "# Save the plot\n",
    "plt_file_path = '../../../../plots/profile_RBR_bottleav.png'\n",
    "plt.savefig(plt_file_path)\n",
    "plt.close()"
   ]
  },
  {
   "cell_type": "markdown",
   "id": "6844c644-5def-43b9-86a7-bc58f53d4289",
   "metadata": {},
   "source": [
    "## Mixed Layer Depth determination"
   ]
  },
  {
   "cell_type": "code",
   "execution_count": 83,
   "id": "1c93b128-8c04-43f5-8b13-6f2fdc1bec4c",
   "metadata": {},
   "outputs": [
    {
     "name": "stdout",
     "output_type": "stream",
     "text": [
      "<xarray.DataArray 'mld' (STATION: 12)> Size: 96B\n",
      "array([nan, 26., 13., 33., 35., 28., 14.,  8., 19., 42., 29., 29.])\n",
      "Coordinates:\n",
      "  * STATION  (STATION) <U10 480B '60' '72' '74' '83' ... '118' '127' '132' '133'\n",
      "    TIME     (STATION) float64 96B 1.984e+04 1.998e+04 ... 1.998e+04 1.998e+04\n",
      "    dim_0    (STATION) float64 96B nan 0.0 29.0 66.0 ... 205.0 242.0 nan 279.0\n"
     ]
    }
   ],
   "source": [
    "# Calculation based on sigma0 (gsw library)\n",
    "\n",
    "pressure = ds_ctd_calc['PRES'] \n",
    "temperature = ds_ctd_calc['TEMP1']  \n",
    "salinity = ds_ctd_calc['PSAL1'] \n",
    "\n",
    "# Calculate potential density anomaly (sigma0)\n",
    "sigma = gsw.density.sigma0(salinity, temperature)\n",
    "\n",
    "# Calculate the surface potential density anomaly for each station\n",
    "surface_sigma = sigma.isel(PRES=3)  # At 3m because of delayed CTD start since on boat\n",
    "\n",
    "# Define the MLD threshold\n",
    "density_threshold = surface_sigma + 0.125 \n",
    "\n",
    "# Create a boolean mask for MLD\n",
    "# Correctly broadcasting density_threshold\n",
    "mld_mask = sigma > density_threshold.values[:, np.newaxis]  # Shape: (STATION, PRES)\n",
    "\n",
    "# Calculate MLD: The first depth (pressure) where the density exceeds the threshold\n",
    "mld_indices = mld_mask.argmax(dim='PRES')\n",
    "\n",
    "# Convert MLD indices to actual depth values using pressure coordinate\n",
    "mld_depth = xr.where(mld_indices > 0, pressure.isel(PRES=mld_indices), np.nan)\n",
    "\n",
    "# Add MLD depth to the dataset as a new variable\n",
    "ds_ctd_calc['mld'] = mld_depth\n",
    "ds_ctd_calc['sigma0'] = sigma\n",
    "\n",
    "# Display the MLD results\n",
    "print(ds_ctd_calc['mld'])"
   ]
  },
  {
   "cell_type": "code",
   "execution_count": 84,
   "id": "31cf555e-c1ab-46be-ad8b-c910b54244a4",
   "metadata": {},
   "outputs": [],
   "source": [
    "# Which other calculation methods should be used?"
   ]
  },
  {
   "cell_type": "code",
   "execution_count": 85,
   "id": "b39ac12a-1e7f-4aca-99b2-1b6f61786f37",
   "metadata": {},
   "outputs": [
    {
     "name": "stdout",
     "output_type": "stream",
     "text": [
      "Station 60: Visual MLD = nan kg/m³ at depth nan m\n",
      "Saved MLD profile plot for Station 60 as ../../../../plots/profile_MLD_station_60.png\n",
      "Station 72: Visual MLD = 24.71 kg/m³ at depth 26.00 m\n",
      "Saved MLD profile plot for Station 72 as ../../../../plots/profile_MLD_station_72.png\n",
      "Station 74: Visual MLD = 24.75 kg/m³ at depth 13.00 m\n",
      "Saved MLD profile plot for Station 74 as ../../../../plots/profile_MLD_station_74.png\n",
      "Station 83: Visual MLD = 24.75 kg/m³ at depth 33.00 m\n",
      "Saved MLD profile plot for Station 83 as ../../../../plots/profile_MLD_station_83.png\n",
      "Station 85: Visual MLD = 24.74 kg/m³ at depth 35.00 m\n",
      "Saved MLD profile plot for Station 85 as ../../../../plots/profile_MLD_station_85.png\n",
      "Station 95: Visual MLD = 24.92 kg/m³ at depth 28.00 m\n",
      "Saved MLD profile plot for Station 95 as ../../../../plots/profile_MLD_station_95.png\n",
      "Station 106: Visual MLD = 24.82 kg/m³ at depth 14.00 m\n",
      "Saved MLD profile plot for Station 106 as ../../../../plots/profile_MLD_station_106.png\n",
      "Station 113: Visual MLD = 24.62 kg/m³ at depth 8.00 m\n",
      "Saved MLD profile plot for Station 113 as ../../../../plots/profile_MLD_station_113.png\n",
      "Station 118: Visual MLD = 25.03 kg/m³ at depth 19.00 m\n",
      "Saved MLD profile plot for Station 118 as ../../../../plots/profile_MLD_station_118.png\n",
      "Station 127: Visual MLD = 25.06 kg/m³ at depth 42.00 m\n",
      "Saved MLD profile plot for Station 127 as ../../../../plots/profile_MLD_station_127.png\n",
      "Station 132: Visual MLD = 24.94 kg/m³ at depth 29.00 m\n",
      "Saved MLD profile plot for Station 132 as ../../../../plots/profile_MLD_station_132.png\n",
      "Station 133: Visual MLD = 24.94 kg/m³ at depth 29.00 m\n",
      "Saved MLD profile plot for Station 133 as ../../../../plots/profile_MLD_station_133.png\n",
      "All station plots saved.\n"
     ]
    }
   ],
   "source": [
    "#Visual MLD determination based on plots, however same threshold used (could be adjusted)\n",
    "\n",
    "# Define the threshold\n",
    "threshold = 0.125\n",
    "\n",
    "# Iterate through each station to create individual plots\n",
    "for station in ds_ctd_calc['STATION'].values:\n",
    "    # Select data for the current station\n",
    "    station_sigma = sigma.sel(STATION=station)\n",
    "    \n",
    "    # Directly use pressure assuming it's already a NumPy array\n",
    "    station_pressure = pressure  # No need to call .values if it's already a NumPy array\n",
    "    station_surface_sigma = surface_sigma.sel(STATION=station)\n",
    "\n",
    "    # Calculate the density threshold for the current station\n",
    "    density_threshold = station_surface_sigma + threshold \n",
    "\n",
    "    # Find the indices where sigma exceeds the threshold\n",
    "    mld_mask = station_sigma > density_threshold \n",
    "    threshold_index = mld_mask.argmax()  # Find the first index where the condition is true\n",
    "\n",
    "    # Get the corresponding pressure value for the threshold\n",
    "    if threshold_index > 0: \n",
    "        threshold_depth = station_pressure[threshold_index]  # Use indexing instead of isel\n",
    "        visual_mld = density_threshold \n",
    "    else:\n",
    "        threshold_depth = np.nan  # If the threshold is not exceeded\n",
    "        visual_mld = np.nan \n",
    "\n",
    "    # Print the value of the visual MLD\n",
    "    print(f'Station {station}: Visual MLD = {visual_mld:.2f} kg/m³ at depth {threshold_depth:.2f} m')\n",
    "\n",
    "    # Create the plot\n",
    "    plt.figure(figsize=(10, 6))\n",
    "    plt.plot(station_sigma, -station_pressure, label='σ₀ (Potential Density)', color='blue')  # -pressure for depth\n",
    "    if threshold_index > 0:  # Only plot if there's a valid threshold\n",
    "        plt.axhline(y=-threshold_depth, color='red', linestyle='--', label=f'Sigma0 + {threshold} Exceeded')\n",
    "    \n",
    "    # Add labels and title\n",
    "    plt.title(f'Potential Density Profile for Station {station}')\n",
    "    plt.xlabel('Potential Density (σ₀) [kg/m³]')\n",
    "    plt.ylabel('Depth (m)')\n",
    "    plt.grid()\n",
    "    plt.legend()\n",
    "    \n",
    "    # Save the plot with station number in the file name\n",
    "    plt_file_path = f'../../../../plots/profile_MLD_station_{station}.png'  # Use f-string to include station\n",
    "    plt.savefig(plt_file_path)\n",
    "    plt.close()\n",
    "\n",
    "    print(f\"Saved MLD profile plot for Station {station} as {plt_file_path}\")\n",
    "\n",
    "print(\"All station plots saved.\")\n"
   ]
  },
  {
   "cell_type": "code",
   "execution_count": 86,
   "id": "32d76636-94fe-4827-9992-5e8483f22f77",
   "metadata": {},
   "outputs": [],
   "source": [
    "# Create a fancy TS diagram\n",
    "\n",
    "# Extract the necessary variables\n",
    "temperature = ds_ctd_calc['TEMP1'].values  \n",
    "salinity = ds_ctd_calc['PSAL1'].values  \n",
    "pressure = ds_ctd_calc['PRES'].values \n",
    "\n",
    "# Calculate potential density (σ₀) from temperature and salinity (pressure assumed stable in this determination method)\n",
    "sigma0 = gsw.sigma0(salinity, temperature)  \n",
    "\n",
    "# Append sigma0 to ds_ctd_calc as a new variable\n",
    "ds_ctd_calc['sigma0'] = (('STATION', 'PRES'), sigma0)  # Adjust dimensions as needed\n",
    "\n",
    "# Calculate potential temperature (Theta)\n",
    "# Assuming a standard reference pressure of 0 dbar for the theta calculation\n",
    "p_ref = 0  # Reference pressure in dbar\n",
    "theta = gsw.pt_from_t(salinity, temperature, pressure, p_ref)\n",
    "\n",
    "# Create the T-S diagram\n",
    "plt.figure(figsize=(10, 6))\n",
    "scatter = plt.scatter(salinity, temperature, c=theta, cmap='viridis', edgecolor='k', s=50)\n",
    "plt.colorbar(scatter, label='Potential Temperature (°C)')\n",
    "\n",
    "# Add labels and title\n",
    "plt.title('Temperature-Salinity Diagram')\n",
    "plt.xlabel('Salinity (PSU)')\n",
    "plt.ylabel('Temperature (°C)')\n",
    "\n",
    "plt.grid(True)\n",
    "\n",
    "# Save the plot\n",
    "plt_file_path = '../../../../plots/fancy_TSdiagram.png'\n",
    "plt.savefig(plt_file_path)\n",
    "plt.close()"
   ]
  },
  {
   "cell_type": "markdown",
   "id": "0353f329-2ed5-43e5-be91-678d97270ad8",
   "metadata": {},
   "source": [
    "## Prepare Chl-a to calibarate with fluoresence later"
   ]
  },
  {
   "cell_type": "code",
   "execution_count": 87,
   "id": "5f3e3b90-df8b-4511-85cf-61ede3825b1e",
   "metadata": {},
   "outputs": [],
   "source": [
    "# Two ways to add chlorophyll data to xarray dataset\n",
    "# First: keep RBR pressure dimension\n",
    "\n",
    "# Create a dictionary to hold the chlorophyll data to be added\n",
    "chlorophyll_RBR_data = {}\n",
    "\n",
    "# Iterate through each binned profile based on the station number\n",
    "for profile_name, binned_df in binned_profiles.items():\n",
    "    # Extract the STATION (ID) from the profile_name\n",
    "    station_id = profile_name.split('_')[0]\n",
    "    \n",
    "    # Loop through the binned DataFrame to match with ds_ctd_calc\n",
    "    for index, row in binned_df.iterrows():\n",
    "        # Get the corresponding Pressure_Binned and Chlorophyll\n",
    "        pressure_binned = row['Pressure_Binned']\n",
    "        chlorophyll_value = row['Chlorophyll']\n",
    "\n",
    "        # Create a key for the chlorophyll data based on the coordinates station and pressure\n",
    "        key = (station_id, pressure_binned)\n",
    "\n",
    "        # Add the chlorophyll value to the dictionary\n",
    "        chlorophyll_RBR_data[key] = chlorophyll_value\n",
    "\n",
    "# Convert the dictionary to a DataFrame with a multi-index (required for xarray 2D)\n",
    "chlorophyll_RBR_df = pd.DataFrame.from_dict(chlorophyll_RBR_data, orient='index', columns=['Chlorophyll'])\n",
    "\n",
    "# Set the index to be a multi-index (required for xarray 2D)\n",
    "chlorophyll_RBR_df.index = pd.MultiIndex.from_tuples(chlorophyll_RBR_df.index, names=['STATION', 'Pressure_Binned'])\n",
    "\n",
    "# Now we need to reshape the data into a 2D array for the DataArray\n",
    "# Resetting the index to get STATION and Pressure_Binned back as columns\n",
    "chlorophyll_RBR_df_reset = chlorophyll_RBR_df.reset_index()\n",
    "\n",
    "# Pivot the DataFrame to create a matrix format for chlorophyll values\n",
    "pivot_df = chlorophyll_RBR_df_reset.pivot(index='STATION', columns='Pressure_Binned', values='Chlorophyll')\n",
    "\n",
    "# Convert the pivot DataFrame back to a DataArray\n",
    "chlorophyll_RBR_xr = xr.DataArray(\n",
    "    pivot_df.values,\n",
    "    coords=[pivot_df.index, pivot_df.columns],\n",
    "    dims=['STATION', 'Pressure_Binned']\n",
    ")\n",
    "\n",
    "# Append the chlorophyll data to ds_ctd_calc\n",
    "ds_ctd_calc['Chlorophyll RBR dim'] = chlorophyll_RBR_xr"
   ]
  },
  {
   "cell_type": "code",
   "execution_count": 88,
   "id": "aaf6d43f-1f81-4baa-a718-c7578c8cb7bd",
   "metadata": {},
   "outputs": [
    {
     "name": "stdout",
     "output_type": "stream",
     "text": [
      "<xarray.DataArray 'Chlorophyll' (STATION: 12, PRES: 323)> Size: 31kB\n",
      "array([[       nan,        nan,        nan, ...,        nan,        nan,\n",
      "               nan],\n",
      "       [       nan,        nan,        nan, ...,        nan,        nan,\n",
      "               nan],\n",
      "       [1.89451476, 1.89164439, 1.85921935, ...,        nan,        nan,\n",
      "               nan],\n",
      "       ...,\n",
      "       [0.51351629, 0.59054892, 0.58808956, ...,        nan,        nan,\n",
      "               nan],\n",
      "       [       nan,        nan,        nan, ...,        nan,        nan,\n",
      "               nan],\n",
      "       [0.66113202, 0.70919218, 0.77226081, ...,        nan,        nan,\n",
      "               nan]])\n",
      "Coordinates:\n",
      "  * STATION  (STATION) <U10 480B '60' '72' '74' '83' ... '118' '127' '132' '133'\n",
      "  * PRES     (PRES) float64 3kB 2.0 3.0 4.0 5.0 6.0 ... 322.0 323.0 324.0 325.0\n",
      "    TIME     (STATION) float64 96B 1.984e+04 1.998e+04 ... 1.998e+04 1.998e+04\n",
      "    dim_0    (STATION) float64 96B nan 0.0 29.0 66.0 ... 205.0 242.0 nan 279.0\n"
     ]
    }
   ],
   "source": [
    "# Second method to add chlorophyll data to xarray dataset\n",
    "# adjust from pressure binned length to PRES (different depths and stations for RBR profiles and CTD profiles)\n",
    "\n",
    "# Get unique Pressure values from the PRES dimension of CTD xarray \n",
    "unique_pressures = ds_ctd_calc['PRES'].values\n",
    "\n",
    "# Initialize chlorophyll array with NaNs for all STATION and PRES combinations\n",
    "chlorophyll_values = np.full((len(ds_ctd_calc['STATION']), len(unique_pressures)), np.nan)\n",
    "\n",
    "# Map the actaul existing Chlorophyll values from binned_profiles to chlorophyll_values array\n",
    "for profile_name, df in binned_profiles.items():\n",
    "    station_id = profile_name.split('_')[0]  # Extract station from profile_name of dataframe\n",
    "    for index, row in df.iterrows():\n",
    "        binned_pressure = row['Pressure_Binned']\n",
    "        chlorophyll = row['Chlorophyll']\n",
    "        \n",
    "        # Find corresponding indices in the Chlorophyll array\n",
    "        station_index = np.where(ds_ctd_calc['STATION'].values == station_id)[0]\n",
    "        pressure_index = np.where(unique_pressures == binned_pressure)[0]\n",
    "        \n",
    "        # Check if indices are found\n",
    "        if station_index.size > 0 and pressure_index.size > 0:\n",
    "            chlorophyll_values[station_index[0], pressure_index[0]] = chlorophyll\n",
    "\n",
    "# Create a new DataArray for Chlorophyll using the populated chlorophyll_values (same length as PRES)\n",
    "chlorophyll_xr = xr.DataArray(\n",
    "    chlorophyll_values,\n",
    "    coords=[ds_ctd_calc['STATION'], unique_pressures],\n",
    "    dims=['STATION', 'PRES']\n",
    ")\n",
    "\n",
    "# Assign the new Chlorophyll DataArray to ds_ctd_calc\n",
    "ds_ctd_calc['Chlorophyll'] = chlorophyll_xr\n",
    "\n",
    "# Save the modified ds_ctd_calc permanently\n",
    "ds_ctd_calc.to_netcdf('ds_ctd_calc_with_chlorophyll.nc')\n",
    "\n",
    "# Check to ensure Chlorophyll has been added\n",
    "print(ds_ctd_calc['Chlorophyll'])"
   ]
  },
  {
   "cell_type": "markdown",
   "id": "a444cdb1-6a2e-48d6-b3b7-5c4ecff5b250",
   "metadata": {},
   "source": [
    "## Plot Fjord transect and cross sections for certain varaiables"
   ]
  },
  {
   "cell_type": "code",
   "execution_count": 89,
   "id": "fcddf7cb-1141-4e88-8973-bb56daab94c7",
   "metadata": {},
   "outputs": [
    {
     "name": "stdout",
     "output_type": "stream",
     "text": [
      "Sorted STATION coordinates by LATITUDE with STATION 60 first:\n",
      "['60' '95' '106' '113' '74' '118' '127' '133' '83' '72' '85' '132']\n",
      "Sorted STATION coordinates by LONGITUDE with STATION 60 first:\n",
      "['60' '95' '106' '113' '74' '118' '127' '133' '83' '72' '85' '132']\n"
     ]
    }
   ],
   "source": [
    "#Sort stations not by increasing numbers but my coordinates\n",
    "\n",
    "#Latitude\n",
    "# Create a DataFrame from the LATITUDE and STATION coordinates\n",
    "latitudes = ds_ctd_calc['LATITUDE'].values\n",
    "stations = ds_ctd_calc['STATION'].values\n",
    "\n",
    "# Combine into a DataFrame for sorting by LATITUDE\n",
    "lat_station_df = pd.DataFrame({\n",
    "    'STATION': stations,\n",
    "    'LATITUDE': latitudes\n",
    "})\n",
    "\n",
    "# Sort by LATITUDE\n",
    "lat_station_df_sorted = lat_station_df.sort_values(by='LATITUDE')\n",
    "\n",
    "# Extract the sorted STATION values\n",
    "sorted_stations_lat = lat_station_df_sorted['STATION'].values.tolist()\n",
    "\n",
    "# Ensure STATION 60 is first for LATITUDE sorting (if relevant for plotting)\n",
    "if '60' in sorted_stations_lat:\n",
    "    sorted_stations_lat = ['60'] + [station for station in sorted_stations_lat if station != '60']\n",
    "\n",
    "# Update ds_ctd_calc to reorder the STATION coordinate and associated data by LATITUDE\n",
    "ds_ctd_lat_sorted = ds_ctd_calc.sel(STATION=sorted_stations_lat, drop=True)  # Reindex and drop old coordinates\n",
    "ds_ctd_lat_sorted = ds_ctd_lat_sorted.assign_coords(STATION=sorted_stations_lat)\n",
    "\n",
    "# Display the new order of STATION sorted by LATITUDE\n",
    "print(\"Sorted STATION coordinates by LATITUDE with STATION 60 first:\")\n",
    "print(ds_ctd_lat_sorted['STATION'].values)\n",
    "\n",
    "#Longitude\n",
    "# Create a DataFrame from the LONGITUDE and STATION coordinates\n",
    "longitudes = ds_ctd_calc['LONGITUDE'].values\n",
    "\n",
    "# Combine into a DataFrame for sorting by LONGITUDE\n",
    "long_station_df = pd.DataFrame({\n",
    "    'STATION': stations,\n",
    "    'LONGITUDE': longitudes\n",
    "})\n",
    "\n",
    "# Sort by LONGITUDE\n",
    "long_station_df_sorted = long_station_df.sort_values(by='LONGITUDE')\n",
    "\n",
    "# Extract the sorted STATION values\n",
    "sorted_stations_long = long_station_df_sorted['STATION'].values.tolist()\n",
    "\n",
    "# Ensure STATION 60 is first for LONGITUDE sorting (in case relevant for plotting)\n",
    "if '60' in sorted_stations_long:\n",
    "    sorted_stations_long = ['60'] + [station for station in sorted_stations_long if station != '60']\n",
    "\n",
    "# Update ds_ctd_calc to reorder the STATION coordinate and associated data by LONGITUDE\n",
    "ds_ctd_long_sorted = ds_ctd_calc.sel(STATION=sorted_stations_long, drop=True)  # Reindex and drop old coordinates\n",
    "ds_ctd_long_sorted = ds_ctd_long_sorted.assign_coords(STATION=sorted_stations_long)\n",
    "\n",
    "# Display the new order of STATION sorted by LONGITUDE\n",
    "print(\"Sorted STATION coordinates by LONGITUDE with STATION 60 first:\")\n",
    "print(ds_ctd_long_sorted['STATION'].values)"
   ]
  },
  {
   "cell_type": "code",
   "execution_count": 90,
   "id": "679fb21f-105b-49e7-bb10-c787617ac006",
   "metadata": {},
   "outputs": [
    {
     "name": "stdout",
     "output_type": "stream",
     "text": [
      "Available STATION values in ds_ctd_lat:\n",
      "['60' '95' '106' '113' '74' '118' '127' '133' '83' '72' '85' '132']\n",
      "\n",
      "Fjord Transect Dataset:\n",
      "<xarray.Dataset> Size: 164kB\n",
      "Dimensions:              (PRES: 323, Pressure_Binned: 107, STATION: 6)\n",
      "Coordinates:\n",
      "  * PRES                 (PRES) float64 3kB 2.0 3.0 4.0 ... 323.0 324.0 325.0\n",
      "  * Pressure_Binned      (Pressure_Binned) int64 856B 0 1 2 3 ... 104 105 106\n",
      "    TIME                 (STATION) float64 48B 1.984e+04 1.998e+04 ... 1.998e+04\n",
      "    dim_0                (STATION) float64 48B nan 0.0 29.0 66.0 137.0 242.0\n",
      "  * STATION              (STATION) <U3 72B '60' '72' '74' '83' '106' '127'\n",
      "Data variables: (12/16)\n",
      "    TEMP1                (STATION, PRES) float64 16kB nan nan nan ... nan nan\n",
      "    CNDC1                (STATION, PRES) float64 16kB nan nan nan ... nan nan\n",
      "    flSP                 (STATION, PRES) float64 16kB nan nan nan ... nan nan\n",
      "    PSAL1                (STATION, PRES) float64 16kB nan nan nan ... nan nan\n",
      "    gsw_saA0             (STATION, PRES) float64 16kB nan nan nan ... nan nan\n",
      "    gsw_ctA0             (STATION, PRES) float64 16kB nan nan nan ... nan nan\n",
      "    ...                   ...\n",
      "    CRUISE               <U27 108B '!! CRUISE (Not assigned) !!'\n",
      "    PROCESSING           object 8B None\n",
      "    mld                  (STATION) float64 48B nan 26.0 13.0 33.0 14.0 42.0\n",
      "    sigma0               (STATION, PRES) float64 16kB nan nan nan ... nan nan\n",
      "    Chlorophyll RBR dim  (STATION, Pressure_Binned) float64 5kB nan nan ... nan\n",
      "    Chlorophyll          (STATION, PRES) float64 16kB nan nan nan ... nan nan\n",
      "Attributes:\n",
      "    binned:        1 decibars (SBE software)\n",
      "    history:       2024-04-24 to 2024-09-13: Data collection.\\n2024-09-11 to ...\n",
      "    ship:          BP\n",
      "    source_files:  E.g. STNR0072.HEX, BERET.XMLCON -> PROC\\STNR0072_BIN.CNV\n",
      "    featureType:   profile\n"
     ]
    }
   ],
   "source": [
    "# Use latitude to sort for fjord transect plot\n",
    "\n",
    "# Convert station numbers to strings if necessary\n",
    "Fjord_transect = [str(x) for x in [60, 72, 74, 83, 106, 127]] # 60 needed for plotting?\n",
    "\n",
    "# Check available STATION values\n",
    "print(\"Available STATION values in ds_ctd_lat:\")\n",
    "available_stations = ds_ctd_lat_sorted['STATION'].values\n",
    "print(available_stations)\n",
    "\n",
    "# Extract data for Fjord transect\n",
    "try:\n",
    "    ds_ctd_fjord = ds_ctd_lat_sorted.sel(STATION=Fjord_transect)\n",
    "except KeyError as e:\n",
    "    print(f\"Error selecting Fjord transect: {e}\")\n",
    "\n",
    "# Print the resulting datasets if successfully created\n",
    "if 'ds_ctd_fjord' in locals():\n",
    "    print(\"\\nFjord Transect Dataset:\")\n",
    "    print(ds_ctd_fjord)"
   ]
  },
  {
   "cell_type": "code",
   "execution_count": 91,
   "id": "8253fc70-0d12-4cee-aaf1-48140847930a",
   "metadata": {},
   "outputs": [
    {
     "name": "stdout",
     "output_type": "stream",
     "text": [
      "Available STATION values in ds_ctd_long:\n",
      "['60' '95' '106' '113' '74' '118' '127' '133' '83' '72' '85' '132']\n",
      "\n",
      "River Cross Dataset:\n",
      "<xarray.Dataset> Size: 111kB\n",
      "Dimensions:              (PRES: 323, Pressure_Binned: 107, STATION: 4)\n",
      "Coordinates:\n",
      "  * PRES                 (PRES) float64 3kB 2.0 3.0 4.0 ... 323.0 324.0 325.0\n",
      "  * Pressure_Binned      (Pressure_Binned) int64 856B 0 1 2 3 ... 104 105 106\n",
      "    TIME                 (STATION) float64 32B 1.984e+04 1.998e+04 ... 1.998e+04\n",
      "    dim_0                (STATION) float64 32B nan 103.0 137.0 171.0\n",
      "  * STATION              (STATION) <U3 48B '60' '95' '106' '113'\n",
      "Data variables: (12/16)\n",
      "    TEMP1                (STATION, PRES) float64 10kB nan nan nan ... nan nan\n",
      "    CNDC1                (STATION, PRES) float64 10kB nan nan nan ... nan nan\n",
      "    flSP                 (STATION, PRES) float64 10kB nan nan nan ... nan nan\n",
      "    PSAL1                (STATION, PRES) float64 10kB nan nan nan ... nan nan\n",
      "    gsw_saA0             (STATION, PRES) float64 10kB nan nan nan ... nan nan\n",
      "    gsw_ctA0             (STATION, PRES) float64 10kB nan nan nan ... nan nan\n",
      "    ...                   ...\n",
      "    CRUISE               <U27 108B '!! CRUISE (Not assigned) !!'\n",
      "    PROCESSING           object 8B None\n",
      "    mld                  (STATION) float64 32B nan 28.0 14.0 8.0\n",
      "    sigma0               (STATION, PRES) float64 10kB nan nan nan ... nan nan\n",
      "    Chlorophyll RBR dim  (STATION, Pressure_Binned) float64 3kB nan nan ... nan\n",
      "    Chlorophyll          (STATION, PRES) float64 10kB nan nan nan ... nan nan\n",
      "Attributes:\n",
      "    binned:        1 decibars (SBE software)\n",
      "    history:       2024-04-24 to 2024-09-13: Data collection.\\n2024-09-11 to ...\n",
      "    ship:          BP\n",
      "    source_files:  E.g. STNR0072.HEX, BERET.XMLCON -> PROC\\STNR0072_BIN.CNV\n",
      "    featureType:   profile\n",
      "\n",
      "Glacier Cross Dataset:\n",
      "<xarray.Dataset> Size: 111kB\n",
      "Dimensions:              (PRES: 323, Pressure_Binned: 107, STATION: 4)\n",
      "Coordinates:\n",
      "  * PRES                 (PRES) float64 3kB 2.0 3.0 4.0 ... 323.0 324.0 325.0\n",
      "  * Pressure_Binned      (Pressure_Binned) int64 856B 0 1 2 3 ... 104 105 106\n",
      "    TIME                 (STATION) float64 32B 1.984e+04 1.998e+04 ... 1.998e+04\n",
      "    dim_0                (STATION) float64 32B nan 205.0 242.0 279.0\n",
      "  * STATION              (STATION) <U3 48B '60' '118' '127' '133'\n",
      "Data variables: (12/16)\n",
      "    TEMP1                (STATION, PRES) float64 10kB nan nan nan ... nan nan\n",
      "    CNDC1                (STATION, PRES) float64 10kB nan nan nan ... nan nan\n",
      "    flSP                 (STATION, PRES) float64 10kB nan nan nan ... nan nan\n",
      "    PSAL1                (STATION, PRES) float64 10kB nan nan nan ... nan nan\n",
      "    gsw_saA0             (STATION, PRES) float64 10kB nan nan nan ... nan nan\n",
      "    gsw_ctA0             (STATION, PRES) float64 10kB nan nan nan ... nan nan\n",
      "    ...                   ...\n",
      "    CRUISE               <U27 108B '!! CRUISE (Not assigned) !!'\n",
      "    PROCESSING           object 8B None\n",
      "    mld                  (STATION) float64 32B nan 19.0 42.0 29.0\n",
      "    sigma0               (STATION, PRES) float64 10kB nan nan nan ... nan nan\n",
      "    Chlorophyll RBR dim  (STATION, Pressure_Binned) float64 3kB nan nan ... nan\n",
      "    Chlorophyll          (STATION, PRES) float64 10kB nan nan nan ... nan nan\n",
      "Attributes:\n",
      "    binned:        1 decibars (SBE software)\n",
      "    history:       2024-04-24 to 2024-09-13: Data collection.\\n2024-09-11 to ...\n",
      "    ship:          BP\n",
      "    source_files:  E.g. STNR0072.HEX, BERET.XMLCON -> PROC\\STNR0072_BIN.CNV\n",
      "    featureType:   profile\n"
     ]
    }
   ],
   "source": [
    "# Use longitude to sort for cross section plots\n",
    "\n",
    "# Convert station numbers to strings if necessary\n",
    "River_cross = [str(x) for x in [60, 95, 106, 113]] #60 needed for plotting?\n",
    "Glacier_cross = [str(x) for x in [60, 118, 127, 133]] #60 needed for plotting?\n",
    "\n",
    "# Check available STATION values\n",
    "print(\"Available STATION values in ds_ctd_long:\")\n",
    "available_stations = ds_ctd_long_sorted['STATION'].values\n",
    "print(available_stations)\n",
    "\n",
    "# Extract data for River cross\n",
    "try:\n",
    "    ds_ctd_river = ds_ctd_long_sorted.sel(STATION=River_cross)\n",
    "except KeyError as e:\n",
    "    print(f\"Error selecting River cross: {e}\")\n",
    "\n",
    "# Extract data for Glacier cross\n",
    "try:\n",
    "    ds_ctd_glacier = ds_ctd_long_sorted.sel(STATION=Glacier_cross)\n",
    "except KeyError as e:\n",
    "    print(f\"Error selecting Glacier cross: {e}\")\n",
    "\n",
    "if 'ds_ctd_river' in locals():\n",
    "    print(\"\\nRiver Cross Dataset:\")\n",
    "    print(ds_ctd_river)\n",
    "\n",
    "if 'ds_ctd_glacier' in locals():\n",
    "    print(\"\\nGlacier Cross Dataset:\")\n",
    "    print(ds_ctd_glacier)"
   ]
  },
  {
   "cell_type": "code",
   "execution_count": 92,
   "id": "0b417723-6d73-42f1-b518-0be894718641",
   "metadata": {},
   "outputs": [
    {
     "name": "stdout",
     "output_type": "stream",
     "text": [
      "Saved transect plot for TEMP1 as ../../../../plots/fjord_transect_TEMP1.png\n",
      "Saved transect plot for PSAL1 as ../../../../plots/fjord_transect_PSAL1.png\n",
      "Saved transect plot for flSP as ../../../../plots/fjord_transect_flSP.png\n",
      "Saved transect plot for sigma0 as ../../../../plots/fjord_transect_sigma0.png\n",
      "Saved transect plot for Chlorophyll as ../../../../plots/fjord_transect_Chlorophyll.png\n",
      "All transect plots saved.\n"
     ]
    }
   ],
   "source": [
    "# Different ways to plot profiles/transects based on Fjord transect\n",
    "\n",
    "# Way 1\n",
    "# Problem displayed colorfill seems to not align with station values, based on know depth (need 60 or not?)\n",
    "\n",
    "# Define the list of variables to plot from ds_ctd_fjord\n",
    "variables = ['TEMP1', 'PSAL1', 'flSP', 'sigma0', 'Chlorophyll']\n",
    "\n",
    "# Get station and depth (PRES) coordinates\n",
    "stations = ds_ctd_fjord['STATION'].values\n",
    "depth = ds_ctd_fjord['PRES'].values \n",
    "\n",
    "# Loop over each variable and create individual transect plots\n",
    "for var in variables:\n",
    "    # Extract data for the current variable\n",
    "    data = ds_ctd_fjord[var].values\n",
    "    \n",
    "    # Create the figure\n",
    "    fig, ax = plt.subplots(figsize=(10, 6))\n",
    "    \n",
    "    # Plot the filled contour for the variable (using pcolormesh for a simple example)\n",
    "    c = ax.contourf(stations, depth, data.T, cmap='viridis', levels=100)  # Transpose data if needed\n",
    "    plt.colorbar(c, ax=ax, label=f'{var} values')\n",
    "    \n",
    "    # Invert y-axis to show depth increasing downwards\n",
    "    ax.invert_yaxis()\n",
    "    \n",
    "    # Label the axes\n",
    "    ax.set_xlabel('Station')\n",
    "    ax.set_ylabel('Depth (m)')\n",
    "    ax.set_title(f'Transect of {var} along Stations')     \n",
    "    \n",
    "    # Save the plot with the variable name in the file name\n",
    "    plt_file_path = f'../../../../plots/fjord_transect_{var}.png'  # Use f-string to include the variable name\n",
    "    plt.savefig(plt_file_path)\n",
    "    plt.close()\n",
    "\n",
    "    print(f\"Saved transect plot for {var} as {plt_file_path}\")\n",
    "\n",
    "print(\"All transect plots saved.\")\n"
   ]
  },
  {
   "cell_type": "code",
   "execution_count": 93,
   "id": "710d3e02-4860-4ce1-b339-6027427619b6",
   "metadata": {},
   "outputs": [],
   "source": [
    "# transform transect and cross section, so they can be processed\n",
    "\n",
    "ds_ctd_fjord = ds_ctd_fjord.swap_dims({'STATION':'TIME'})\n",
    "ds_ctd_river = ds_ctd_river.swap_dims({'STATION':'TIME'})\n",
    "ds_ctd_glacier = ds_ctd_glacier.swap_dims({'STATION':'TIME'})"
   ]
  },
  {
   "cell_type": "code",
   "execution_count": 94,
   "id": "6e33ab70-4661-437b-a10f-9f6b54726022",
   "metadata": {},
   "outputs": [
    {
     "data": {
      "application/vnd.jupyter.widget-view+json": {
       "model_id": "cd814ac3899543ad8fd0fc70264be823",
       "version_major": 2,
       "version_minor": 0
      },
      "text/plain": [
       "VBox(children=(HBox(children=(Dropdown(description='Variable 1:', options=('TEMP1', 'CNDC1', 'flSP', 'PSAL1', …"
      ]
     },
     "metadata": {},
     "output_type": "display_data"
    }
   ],
   "source": [
    "# Alternative way to plot transect/cross sections\n",
    "# However same problem as other transect with possible misalignment\n",
    "# Include 60 or not?\n",
    "\n",
    "ctd.contour(ds_ctd_fjord)"
   ]
  },
  {
   "cell_type": "markdown",
   "id": "abae1fee-08ec-4844-9269-5806ba88ab86",
   "metadata": {},
   "source": [
    "## Combine Bottle averages RBR and CTD to create station profiles"
   ]
  },
  {
   "cell_type": "code",
   "execution_count": 95,
   "id": "2e917d89-99b2-4a71-9e3a-1dea7a499f19",
   "metadata": {},
   "outputs": [],
   "source": [
    "# Define the correct file paths for loading the Excel files\n",
    "file_rbr = 'Bottle_averages_RBR.xlsx'\n",
    "file_ctd = 'Bottle_averages_CTD.xlsx'\n",
    "\n",
    "# Load the Excel files into DataFrames\n",
    "rbr_df = pd.read_excel(file_rbr)\n",
    "ctd_df = pd.read_excel(file_ctd)\n",
    "\n",
    "# Ensure that both 'STATION' and 'maximumDepthInMeters' columns have the same data type in both dataframes\n",
    "rbr_df['STATION'] = rbr_df['STATION'].astype(int)\n",
    "ctd_df['STATION'] = ctd_df['STATION'].astype(int)\n",
    "\n",
    "rbr_df['maximumDepthInMeters'] = rbr_df['maximumDepthInMeters'].astype(float)\n",
    "ctd_df['maximumDepthInMeters'] = ctd_df['maximumDepthInMeters'].astype(float)\n",
    "\n",
    "# Merge the two dataframes on 'STATION' and 'maximumDepthInMeters' using an outer join\n",
    "combined_df = pd.merge(ctd_df, rbr_df, how='outer', on=['STATION', 'maximumDepthInMeters'])\n",
    "\n",
    "# Save the combined dataframe to a new Excel file\n",
    "combined_df.to_excel('Bottle_averages_combined.xlsx', index=False)"
   ]
  },
  {
   "cell_type": "code",
   "execution_count": 96,
   "id": "78abf1c1-61bd-4186-a4ff-92b72e47bd76",
   "metadata": {},
   "outputs": [
    {
     "data": {
      "text/plain": [
       "'Bottle_averages_combined_with_sigma0.xlsx'"
      ]
     },
     "execution_count": 96,
     "metadata": {},
     "output_type": "execute_result"
    }
   ],
   "source": [
    "# Add sigma0 to combined dataframe\n",
    "\n",
    "# Load the combined Excel file\n",
    "combined_df = pd.read_excel('Bottle_averages_combined.xlsx')\n",
    "\n",
    "# calculate sigma only for valid rows\n",
    "valid_rows = combined_df['TEMP1'].notna() & combined_df['PSAL1'].notna()\n",
    "\n",
    "# Extract 'SA' (absolute salinity) and 'CT' (conservative temperature) from valid rows\n",
    "SA = combined_df.loc[valid_rows, 'PSAL1'].values\n",
    "CT = combined_df.loc[valid_rows, 'TEMP1'].values\n",
    "\n",
    "# Calculate sigma-0 using gsw library\n",
    "sigma0 = gsw.sigma0(SA, CT)\n",
    "\n",
    "# Assign the calculated sigma-0 values to the corresponding rows in the original dataframe\n",
    "combined_df.loc[valid_rows, 'sigma_0'] = sigma0\n",
    "\n",
    "# Save the updated dataframe back to the Excel file\n",
    "combined_df.to_excel('Bottle_averages_combined_with_sigma0.xlsx', index=False)\n",
    "\n",
    "# Return the path to the updated Excel file\n",
    "'Bottle_averages_combined_with_sigma0.xlsx'"
   ]
  },
  {
   "cell_type": "code",
   "execution_count": 97,
   "id": "7f784e5c-c390-4a76-b812-7c78e5fb39aa",
   "metadata": {},
   "outputs": [
    {
     "name": "stdout",
     "output_type": "stream",
     "text": [
      "Saved profile plot for Station 72 as ../../../../plots/profiles_combined_station_72.png\n",
      "Saved profile plot for Station 74 as ../../../../plots/profiles_combined_station_74.png\n",
      "Saved profile plot for Station 83 as ../../../../plots/profiles_combined_station_83.png\n",
      "Saved profile plot for Station 95 as ../../../../plots/profiles_combined_station_95.png\n",
      "Saved profile plot for Station 106 as ../../../../plots/profiles_combined_station_106.png\n",
      "Saved profile plot for Station 113 as ../../../../plots/profiles_combined_station_113.png\n",
      "Saved profile plot for Station 118 as ../../../../plots/profiles_combined_station_118.png\n",
      "Saved profile plot for Station 127 as ../../../../plots/profiles_combined_station_127.png\n",
      "Saved profile plot for Station 133 as ../../../../plots/profiles_combined_station_133.png\n",
      "All profile plots saved.\n"
     ]
    }
   ],
   "source": [
    "# Plot profiles for certain variables at the different stations\n",
    "\n",
    "# Load the combined DataFrame\n",
    "combined_df = pd.read_excel('Bottle_averages_combined_with_sigma0.xlsx')\n",
    "\n",
    "# List of variables to plot\n",
    "variables = {\n",
    "    'TEMP1': 'Temperature (°C)',\n",
    "    'PSAL1': 'Salinity (PSU)',\n",
    "    'sigma_0': 'Sigma-0 (kg/m³)',\n",
    "    'Chlorophyll': 'Chlorophyll (mg/m³)',\n",
    "    'PAR': 'PAR (μmol/m²/s)'\n",
    "}\n",
    "\n",
    "# Get unique stations\n",
    "stations = combined_df['STATION'].unique()\n",
    "\n",
    "# Plotting for each station\n",
    "for station in stations:\n",
    "    # Filter data for the current station\n",
    "    station_df = combined_df[combined_df['STATION'] == station]\n",
    "\n",
    "    # Create a figure and set of subplots\n",
    "    fig, axs = plt.subplots(1, len(variables), figsize=(20, 8), sharey=True)\n",
    "    \n",
    "    # Set plot title for the current station\n",
    "    fig.suptitle(f'Profile for Station {station}', fontsize=16)\n",
    "\n",
    "    # Loop through variables and create subplots\n",
    "    for i, (var, label) in enumerate(variables.items()):\n",
    "        axs[i].plot(station_df[var], station_df['maximumDepthInMeters'], \n",
    "                    marker='o', linestyle='-', markersize=5)\n",
    "        axs[i].invert_yaxis()  # Invert y-axis so depth increases downwards\n",
    "        axs[i].set_xlabel(label)\n",
    "        axs[i].set_ylabel('Depth (m)' if i == 0 else '')\n",
    "        axs[i].grid(True)\n",
    "\n",
    "    # Adjust layout\n",
    "    plt.tight_layout(rect=[0, 0, 1, 0.95])\n",
    "    \n",
    "    # Save the plot with the station name in the file name\n",
    "    plt_file_path = f'../../../../plots/profiles_combined_station_{station}.png'  # Use f-string to include the station name\n",
    "    plt.savefig(plt_file_path)\n",
    "    plt.close()\n",
    "\n",
    "    print(f\"Saved profile plot for Station {station} as {plt_file_path}\")\n",
    "\n",
    "print(\"All profile plots saved.\")\n"
   ]
  },
  {
   "cell_type": "code",
   "execution_count": 98,
   "id": "cd5658fe-3077-4f09-a55c-efa908ef83c8",
   "metadata": {},
   "outputs": [],
   "source": [
    "# Alternative:\n",
    "# Plot profiles for varaiables aat different stations\n",
    "# However scale is of and cannot be made logarithmic due to negative values, know a fix?\n",
    "\n",
    "combined_df = pd.read_excel('Bottle_averages_combined_with_sigma0.xlsx')\n",
    "\n",
    "# List of variables to plot\n",
    "variables = {\n",
    "    'TEMP1': 'Temperature (°C)',\n",
    "    'PSAL1': 'Salinity (PSU)',\n",
    "    'sigma_0': 'Sigma-0 (kg/m³)',\n",
    "    'Chlorophyll': 'Chlorophyll (mg/m³)',\n",
    "    'PAR': 'PAR (μmol/m²/s)'\n",
    "}\n",
    "\n",
    "# Get unique stations\n",
    "stations = combined_df['STATION'].unique()\n",
    "\n",
    "# Plotting for each station\n",
    "for station in stations:\n",
    "    # Filter data for the current station\n",
    "    station_df = combined_df[combined_df['STATION'] == station]\n",
    "\n",
    "    # Create a figure for the current station\n",
    "    plt.figure(figsize=(10, 6))\n",
    "\n",
    "    # Set plot title for the current station\n",
    "    plt.title(f'Profile for Station {station}', fontsize=16)\n",
    "\n",
    "    # Loop through variables and plot them on the same axes\n",
    "    for var, label in variables.items():\n",
    "        plt.plot(station_df[var], station_df['maximumDepthInMeters'], marker='o', linestyle='-', label=label)\n",
    "\n",
    "    plt.gca().invert_yaxis()  # Invert y-axis so depth increases downwards\n",
    "    plt.xlabel('Value')\n",
    "    plt.ylabel('Depth (m)')\n",
    "    plt.legend(title='Variables')\n",
    "    plt.grid(True)\n",
    "\n",
    "    # Show plot for the current station\n",
    "    plt.tight_layout()\n",
    "    plt_file_path = f'../../../../plots/profiles_combined_stations.png'  # Use f-string to include the station name\n",
    "    plt.savefig(plt_file_path)\n",
    "    plt.close()"
   ]
  },
  {
   "cell_type": "markdown",
   "id": "9c78d09c-e288-44df-b77f-e3c536a529c4",
   "metadata": {},
   "source": [
    "## Chl-a sensor calibration"
   ]
  },
  {
   "cell_type": "markdown",
   "id": "f4832f73-0d8f-41fd-a0e9-d33384177d30",
   "metadata": {},
   "source": [
    "First, the median value of dark counts at depth was determined based on measurements from 100 to 500 m depth. A visual inspection confirmed that there were no offsets between profiles. To calibrate the bottle Chl-a data to the bottle fluorescence measurements, we first only considered the bottle Chl-a value when the standard deviation of the bottle value divided by the fluorescence measurement was < 0.15, to avoid highly noisy parts of the fluorescence profile. Then we subtracted the offset value (1.0495) from the bottle fluorescence measurement, then we fit a linear regression with the bottle Chl-a measurement."
   ]
  },
  {
   "cell_type": "code",
   "execution_count": 99,
   "id": "e15fb8f2-ba5a-4b14-99ae-68bbfc82671f",
   "metadata": {},
   "outputs": [
    {
     "name": "stdout",
     "output_type": "stream",
     "text": [
      "<xarray.Dataset> Size: 325kB\n",
      "Dimensions:              (STATION: 12, PRES: 323, Pressure_Binned: 107)\n",
      "Coordinates:\n",
      "  * STATION              (STATION) <U10 480B '60' '72' '74' ... '132' '133'\n",
      "  * PRES                 (PRES) float64 3kB 2.0 3.0 4.0 ... 323.0 324.0 325.0\n",
      "  * Pressure_Binned      (Pressure_Binned) int64 856B 0 1 2 3 ... 104 105 106\n",
      "    TIME                 (STATION) float64 96B 1.984e+04 1.998e+04 ... 1.998e+04\n",
      "    dim_0                (STATION) float64 96B nan 0.0 29.0 ... 242.0 nan 279.0\n",
      "Data variables: (12/16)\n",
      "    TEMP1                (STATION, PRES) float64 31kB nan nan nan ... nan nan\n",
      "    CNDC1                (STATION, PRES) float64 31kB nan nan nan ... nan nan\n",
      "    flSP                 (STATION, PRES) float64 31kB nan nan nan ... nan nan\n",
      "    PSAL1                (STATION, PRES) float64 31kB nan nan nan ... nan nan\n",
      "    gsw_saA0             (STATION, PRES) float64 31kB nan nan nan ... nan nan\n",
      "    gsw_ctA0             (STATION, PRES) float64 31kB nan nan nan ... nan nan\n",
      "    ...                   ...\n",
      "    CRUISE               <U27 108B '!! CRUISE (Not assigned) !!'\n",
      "    PROCESSING           object 8B None\n",
      "    mld                  (STATION) float64 96B nan 26.0 13.0 ... 42.0 29.0 29.0\n",
      "    sigma0               (STATION, PRES) float64 31kB nan nan nan ... nan nan\n",
      "    Chlorophyll RBR dim  (STATION, Pressure_Binned) float64 10kB nan nan ... nan\n",
      "    Chlorophyll          (STATION, PRES) float64 31kB nan nan nan ... nan nan\n",
      "Attributes:\n",
      "    binned:        1 decibars (SBE software)\n",
      "    history:       2024-04-24 to 2024-09-13: Data collection.\\n2024-09-11 to ...\n",
      "    ship:          BP\n",
      "    source_files:  E.g. STNR0072.HEX, BERET.XMLCON -> PROC\\STNR0072_BIN.CNV\n",
      "    featureType:   profile\n"
     ]
    }
   ],
   "source": [
    "# Check cholorphyll was added to xarray and which chlorophyll to use \n",
    "\n",
    "print(ds_ctd_calc)"
   ]
  },
  {
   "cell_type": "code",
   "execution_count": 100,
   "id": "9a7f2333-4a6c-4535-879b-0583ab21f30d",
   "metadata": {},
   "outputs": [
    {
     "name": "stdout",
     "output_type": "stream",
     "text": [
      "Median value of flSP for PRES > 100 m: 0.039092\n"
     ]
    }
   ],
   "source": [
    "# Median value of dark counts at depth was determined based on measurements from 100 to 500 m depth\n",
    "# for visual inspect see profile check earlier\n",
    "\n",
    "# Filter for PRES > 100\n",
    "filtered_flSP = ds_ctd_calc['flSP'].where(ds_ctd_calc['PRES'] > 100, drop=True)\n",
    "\n",
    "# Calculate the median value\n",
    "median_flSP = filtered_flSP.median()\n",
    "\n",
    "# Print the median value\n",
    "print(\"Median value of flSP for PRES > 100 m:\", median_flSP.values)"
   ]
  },
  {
   "cell_type": "code",
   "execution_count": 101,
   "id": "ffcae9cd-ad1c-4d12-9b68-4128b9efbb6a",
   "metadata": {},
   "outputs": [],
   "source": [
    "# Determine standard deviation for RBR\n",
    "\n",
    "# Create an empty list to hold the standard deviation results\n",
    "std_dev_list = []\n",
    "\n",
    "# Based on calcualting standard dev for bottle averages\n",
    "# Same principle as calculating bottle averages at first \n",
    "\n",
    "for index, row in df_log.iterrows():\n",
    "    station_id = row['STATION']\n",
    "    maximum_depth = row['maximumDepthInMeters']\n",
    "\n",
    "    # Construct the profile name\n",
    "    profile_name = f\"{station_id}_UP\"\n",
    "\n",
    "    # Check if the profile exists in binned_profiles\n",
    "    if profile_name in binned_profiles:\n",
    "        binned_df = binned_profiles[profile_name]\n",
    "\n",
    "        # Convert Pressure_Binned to numeric if it's categorical\n",
    "        if isinstance(binned_df['Pressure_Binned'].dtype, pd.CategoricalDtype):\n",
    "            binned_df['Pressure_Binned'] = binned_df['Pressure_Binned'].cat.codes\n",
    "\n",
    "        # Define the +-2m pressure bounds for bottle averages\n",
    "        lower_bound = maximum_depth - 2\n",
    "        upper_bound = maximum_depth + 2\n",
    "\n",
    "        # Filter the binned DataFrame for the relevant Pressure_Binned values\n",
    "        filtered_data = binned_df[\n",
    "            (binned_df['Pressure_Binned'] >= lower_bound) &\n",
    "            (binned_df['Pressure_Binned'] <= upper_bound)\n",
    "        ]\n",
    "\n",
    "        # Calculate the standard deviation of the relevant columns and add to the results list\n",
    "        if not filtered_data.empty:\n",
    "            # Create a dictionary to store standard deviations\n",
    "            std_dev_dict = {\n",
    "                'STATION': station_id,\n",
    "                'maximumDepthInMeters': maximum_depth,\n",
    "            }\n",
    "\n",
    "            # Calculate standard deviations for numeric columns\n",
    "            std_dev_values = filtered_data.std(numeric_only=True).to_dict()\n",
    "            \n",
    "            # Add standard deviation values to the dictionary\n",
    "            std_dev_dict.update({f'std_{key}': value for key, value in std_dev_values.items()})\n",
    "\n",
    "            # Append the results\n",
    "            std_dev_list.append(std_dev_dict)\n",
    "\n",
    "# Convert the list of dictionaries to a DataFrame\n",
    "std_dev_RBR = pd.DataFrame(std_dev_list)\n",
    "\n",
    "# Remove duplicates based on relevant columns (e.g., STATION and maximumDepthInMeters)\n",
    "std_dev_RBR = std_dev_RBR.drop_duplicates(subset=['STATION', 'maximumDepthInMeters'])\n",
    "\n",
    "# Save the DataFrame\n",
    "std_dev_RBR.to_excel('Bottle_std_dev_RBR.xlsx', index=False)"
   ]
  },
  {
   "cell_type": "code",
   "execution_count": 102,
   "id": "c4f706cf-b013-4e46-99e3-cfcf0d310a05",
   "metadata": {},
   "outputs": [
    {
     "name": "stdout",
     "output_type": "stream",
     "text": [
      "  STATION  maximumDepthInMeters      TEMP1     CNDC1      flSP      PSAL1  \\\n",
      "0      72                   2.0  13.046133  3.874405  0.189190  32.848667   \n",
      "1      72                  20.0  12.813660  3.857658  0.109760  32.885140   \n",
      "2      72                  25.0  12.774680  3.856145  0.089006  32.902660   \n",
      "3      72                  50.0  12.478560  3.846519  0.058329  33.059900   \n",
      "4      72                 343.0        NaN       NaN       NaN        NaN   \n",
      "\n",
      "    gsw_saA0  gsw_ctA0  SBE_FLAG   TIME_SAMPLE  ...  std_Temperature  \\\n",
      "0  33.004867  13.08310       0.0  19975.666190  ...              NaN   \n",
      "1  33.041500  12.84690       0.0  19975.666574  ...              NaN   \n",
      "2  33.059120  12.80678       0.0  19975.666648  ...              NaN   \n",
      "3  33.217280  12.50322       0.0  19975.667158  ...              NaN   \n",
      "4        NaN       NaN       NaN           NaN  ...              NaN   \n",
      "\n",
      "   std_Pressure  std_Chlorophyll  std_PAR  std_Sea pressure  std_Depth  \\\n",
      "0           NaN              NaN      NaN               NaN        NaN   \n",
      "1           NaN              NaN      NaN               NaN        NaN   \n",
      "2           NaN              NaN      NaN               NaN        NaN   \n",
      "3           NaN              NaN      NaN               NaN        NaN   \n",
      "4           NaN              NaN      NaN               NaN        NaN   \n",
      "\n",
      "   std_Salinity  std_Speed of sound  std_Specific conductivity  \\\n",
      "0           NaN                 NaN                        NaN   \n",
      "1           NaN                 NaN                        NaN   \n",
      "2           NaN                 NaN                        NaN   \n",
      "3           NaN                 NaN                        NaN   \n",
      "4           NaN                 NaN                        NaN   \n",
      "\n",
      "   std_Density anomaly  \n",
      "0                  NaN  \n",
      "1                  NaN  \n",
      "2                  NaN  \n",
      "3                  NaN  \n",
      "4                  NaN  \n",
      "\n",
      "[5 rows x 39 columns]\n"
     ]
    }
   ],
   "source": [
    "# Extract deviations and add them onto combined dataframe of RBR and CTD bottle averages\n",
    "\n",
    "# Load the combined DataFrame\n",
    "combined_df = pd.read_excel('Bottle_averages_combined_with_sigma0.xlsx')\n",
    "\n",
    "# Convert the STATION columns to string type for consistent merging\n",
    "combined_df['STATION'] = combined_df['STATION'].astype(str)\n",
    "std_dev_RBR['STATION'] = std_dev_RBR['STATION'].astype(str)\n",
    "\n",
    "# Merge combined_df with std_dev_RBr on STATION and maximumDepthInMeters\n",
    "combined_df = combined_df.merge(std_dev_RBR, on=['STATION', 'maximumDepthInMeters'], how='left')\n",
    "\n",
    "# Save the updated combined DataFrame back to the Excel file\n",
    "combined_df.to_excel('Bottle_averages_combined_with_sigma0_std.xlsx', index=False)\n",
    "\n",
    "# Display the first few rows of the updated combined DataFrame for verification\n",
    "print(combined_df.head())"
   ]
  },
  {
   "cell_type": "code",
   "execution_count": 103,
   "id": "da2bad90-a8e4-4d92-8aaa-68c7bd9d659d",
   "metadata": {},
   "outputs": [
    {
     "name": "stdout",
     "output_type": "stream",
     "text": [
      "   STATION  maximumDepthInMeters     TEMP1     CNDC1      flSP     PSAL1  \\\n",
      "21      95                  38.0  12.15875  3.827293  0.051337  33.16280   \n",
      "24     106                  20.0  12.41012  3.842318  0.068759  33.09234   \n",
      "33     118                  10.0  12.29034  3.825227  0.084719  33.03794   \n",
      "37     118                  58.0  11.92762  3.816304  0.045985  33.25350   \n",
      "42     127                  40.0  12.14264  3.829644  0.049255  33.19874   \n",
      "45     133                  10.0  12.31374  3.819926  0.152096  32.96634   \n",
      "\n",
      "     gsw_saA0   gsw_ctA0  SBE_FLAG   TIME_SAMPLE  ...  std_Pressure  \\\n",
      "21  33.320575  12.182175       0.0  19978.339537  ...      1.101841   \n",
      "24  33.249700  12.437860       0.0  19978.428619  ...      1.612468   \n",
      "33  33.195040  12.320240       0.0  19979.316474  ...      1.651348   \n",
      "37  33.411800  11.946080       0.0  19979.320203  ...      1.232994   \n",
      "42  33.356700  12.164940       0.0  19979.430479  ...      1.584911   \n",
      "45  33.123060  12.345240       0.0  19979.514464  ...      1.594172   \n",
      "\n",
      "    std_Chlorophyll    std_PAR  std_Sea pressure  std_Depth  std_Salinity  \\\n",
      "21         0.004706   0.236810          1.101841   1.092856      0.002508   \n",
      "24         0.008535   0.812033          1.612468   1.599319      0.001635   \n",
      "33         0.011627   0.442074          1.651348   1.637882      0.006288   \n",
      "37         0.004419   0.033367          1.232994   1.222940      0.001491   \n",
      "42         0.005066   0.254269          1.584911   1.571986      0.013206   \n",
      "45         0.016693  10.656921          1.594172   1.581172      0.009537   \n",
      "\n",
      "    std_Speed of sound  std_Specific conductivity  std_Density anomaly  \\\n",
      "21            0.018509                   4.068153             0.006885   \n",
      "24            0.042679                   0.654361             0.009711   \n",
      "33            0.006640                  10.334812             0.014584   \n",
      "37            0.020809                   2.718746             0.006637   \n",
      "42            0.041587                  20.490192             0.021321   \n",
      "45            0.025168                  14.227169             0.015243   \n",
      "\n",
      "    Chlorophyll_Ratio  \n",
      "21           0.091667  \n",
      "24           0.124129  \n",
      "33           0.137242  \n",
      "37           0.096094  \n",
      "42           0.102852  \n",
      "45           0.109754  \n",
      "\n",
      "[6 rows x 40 columns]\n"
     ]
    }
   ],
   "source": [
    "# Determine if bottle Chl-a value when the standard deviation of the bottle value divided by the fluorescence measurement was < 0.15, to avoid highly noisy parts of the fluorescence profile\n",
    "\n",
    "# Ensure the columns 'std_Chlorophyll' and 'flSP' exist in combined_df\n",
    "if 'std_Chlorophyll' in combined_df.columns and 'flSP' in combined_df.columns:\n",
    "    # Calculate the ratio\n",
    "    ratio = combined_df['std_Chlorophyll'] / combined_df['flSP']\n",
    "\n",
    "    # Create a new column to store the ratio (optional)\n",
    "    combined_df['Chlorophyll_Ratio'] = ratio\n",
    "\n",
    "    # Filter the DataFrame where the ratio is smaller than 0.15\n",
    "    filtered_df = combined_df[ratio < 0.15]\n",
    "\n",
    "    # Display the filtered DataFrame\n",
    "    print(filtered_df)\n",
    "    \n",
    "    # Create a new DataFrame by excluding the rows where the ratio is smaller than 0.15\n",
    "    df_chlaB = combined_df[ratio >= 0.15].copy()  # Copy to create a new DataFrame\n",
    "\n",
    "    # Remove the ratio column\n",
    "    df_chlaB['Chlorophyll_Ratio'] = ratio[ratio >= 0.15]"
   ]
  },
  {
   "cell_type": "code",
   "execution_count": 104,
   "id": "de66e648-e1a8-4e95-826a-1fd8087827d6",
   "metadata": {},
   "outputs": [
    {
     "name": "stdout",
     "output_type": "stream",
     "text": [
      "5     0.271927\n",
      "6     0.241428\n",
      "7     0.143950\n",
      "8     0.095974\n",
      "9     0.077842\n",
      "10    0.074950\n",
      "11    0.151233\n",
      "12    0.208936\n",
      "13    0.198614\n",
      "14    0.192490\n",
      "15    0.050057\n",
      "17    0.156640\n",
      "18    0.120390\n",
      "19    0.093179\n",
      "20    0.077872\n",
      "22    0.182120\n",
      "23    0.169956\n",
      "25    0.068517\n",
      "26    0.052975\n",
      "27    0.215665\n",
      "28    0.223778\n",
      "29    0.086915\n",
      "30    0.076112\n",
      "31    0.048992\n",
      "32    0.088325\n",
      "34    0.063380\n",
      "35    0.058341\n",
      "36    0.047034\n",
      "38    0.074699\n",
      "39    0.089011\n",
      "40    0.073327\n",
      "41    0.071277\n",
      "43    0.044979\n",
      "46    0.133608\n",
      "47    0.106562\n",
      "48    0.050362\n",
      "Name: flSP, dtype: float64\n"
     ]
    }
   ],
   "source": [
    "# Check flouresence values\n",
    "print(df_chlaB['flSP'])"
   ]
  },
  {
   "cell_type": "code",
   "execution_count": 105,
   "id": "841eb4e6-52c0-4c23-84ab-3a3ad471d247",
   "metadata": {},
   "outputs": [
    {
     "name": "stdout",
     "output_type": "stream",
     "text": [
      "5    -0.777573\n",
      "6    -0.808072\n",
      "7    -0.905550\n",
      "8    -0.953526\n",
      "9    -0.971658\n",
      "10   -0.974550\n",
      "11   -0.898267\n",
      "12   -0.840564\n",
      "13   -0.850886\n",
      "14   -0.857010\n",
      "15   -0.999443\n",
      "17   -0.892860\n",
      "18   -0.929110\n",
      "19   -0.956321\n",
      "20   -0.971628\n",
      "22   -0.867380\n",
      "23   -0.879544\n",
      "25   -0.980983\n",
      "26   -0.996525\n",
      "27   -0.833835\n",
      "28   -0.825722\n",
      "29   -0.962585\n",
      "30   -0.973388\n",
      "31   -1.000508\n",
      "32   -0.961175\n",
      "34   -0.986120\n",
      "35   -0.991159\n",
      "36   -1.002466\n",
      "38   -0.974801\n",
      "39   -0.960489\n",
      "40   -0.976173\n",
      "41   -0.978223\n",
      "43   -1.004521\n",
      "46   -0.915892\n",
      "47   -0.942938\n",
      "48   -0.999138\n",
      "Name: flSP, dtype: float64\n"
     ]
    }
   ],
   "source": [
    "# Then we subtracted the offset value (1.0495) from the bottle fluorescence measurement\n",
    "\n",
    "# Subtract 1.0495 from all values in the flSP column\n",
    "df_chlaB['flSP'] = df_chlaB['flSP'] - 1.0495\n",
    "\n",
    "# Check flouresence values again\n",
    "print(df_chlaB['flSP'])"
   ]
  },
  {
   "cell_type": "code",
   "execution_count": 106,
   "id": "02fb3350-394b-4f2b-85ff-61102cb27e22",
   "metadata": {},
   "outputs": [
    {
     "name": "stdout",
     "output_type": "stream",
     "text": [
      "Slope: 7.4907177414596475, Intercept: 7.665448207075514\n"
     ]
    }
   ],
   "source": [
    "# then we fit a linear regression with the bottle Chl-a measurement\n",
    "# Two alterantives\n",
    "# First = just calculating\n",
    "\n",
    "# Drop rows with NaN values in 'flSP' or 'Chlorophyll'\n",
    "df_chlaB = df_chlaB.dropna(subset=['flSP', 'Chlorophyll'])\n",
    "\n",
    "# Prepare the variables\n",
    "X = df_chlaB['flSP'].values\n",
    "y = df_chlaB['Chlorophyll'].values\n",
    "\n",
    "# Perform linear regression using numpy\n",
    "A = np.vstack([X, np.ones(len(X))]).T  # Create a design matrix\n",
    "m, b = np.linalg.lstsq(A, y, rcond=None)[0]  # Least squares solution\n",
    "\n",
    "# Output the coefficients\n",
    "print(f\"Slope: {m}, Intercept: {b}\")"
   ]
  },
  {
   "cell_type": "code",
   "execution_count": 107,
   "id": "77a70462-d90b-465f-95cd-def91cdf11e9",
   "metadata": {},
   "outputs": [
    {
     "name": "stdout",
     "output_type": "stream",
     "text": [
      "Slope: 7.490717741459633, Intercept: 7.665448207075497\n"
     ]
    }
   ],
   "source": [
    "# Second = plot creation\n",
    "\n",
    "# Prepare the data\n",
    "X = df_chlaB[['flSP']]  # Predictor variable (flSP)\n",
    "y = df_chlaB['Chlorophyll']  # Response variable (Chlorophyll)\n",
    "\n",
    "# Create a Linear Regression model\n",
    "model = LinearRegression()\n",
    "\n",
    "# Fit the model\n",
    "model.fit(X, y)\n",
    "\n",
    "# Get the coefficients\n",
    "slope = model.coef_[0]\n",
    "intercept = model.intercept_\n",
    "print(f\"Slope: {slope}, Intercept: {intercept}\")\n",
    "\n",
    "# Make predictions\n",
    "y_pred = model.predict(X)\n",
    "\n",
    "# Plotting\n",
    "plt.figure(figsize=(10, 6))\n",
    "plt.scatter(df_chlaB['flSP'], df_chlaB['Chlorophyll'], color='green', label='Data Points')\n",
    "plt.plot(df_chlaB['flSP'], y_pred, color='lime', linewidth=2, label='Linear Regression Line')\n",
    "plt.title('Linear Regression: flSP vs Chlorophyll')\n",
    "plt.xlabel('flSP')\n",
    "plt.ylabel('Chlorophyll')\n",
    "plt.legend()\n",
    "plt.grid()\n",
    "plt_file_path = '../../../../plots/chla_flSP_regression.png'\n",
    "plt.savefig(plt_file_path)\n",
    "plt.close()\n"
   ]
  },
  {
   "cell_type": "code",
   "execution_count": null,
   "id": "58d9243e-0485-450e-b047-0a904004a15c",
   "metadata": {},
   "outputs": [],
   "source": []
  },
  {
   "cell_type": "code",
   "execution_count": null,
   "id": "2c9cfc31-1fa8-45b7-add6-013dba13382a",
   "metadata": {},
   "outputs": [],
   "source": []
  }
 ],
 "metadata": {
  "kernelspec": {
   "display_name": "Python [conda env:kval_ctd] *",
   "language": "python",
   "name": "conda-env-kval_ctd-py"
  },
  "language_info": {
   "codemirror_mode": {
    "name": "ipython",
    "version": 3
   },
   "file_extension": ".py",
   "mimetype": "text/x-python",
   "name": "python",
   "nbconvert_exporter": "python",
   "pygments_lexer": "ipython3",
   "version": "3.11.10"
  }
 },
 "nbformat": 4,
 "nbformat_minor": 5
}
